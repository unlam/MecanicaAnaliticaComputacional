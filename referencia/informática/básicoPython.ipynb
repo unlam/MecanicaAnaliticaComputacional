{
 "cells": [
  {
   "cell_type": "markdown",
   "metadata": {},
   "source": [
    "# Lo básico para aprovechar _Python_"
   ]
  },
  {
   "cell_type": "markdown",
   "metadata": {},
   "source": [
    "[![ingenieria_logo_schwarz.png](data:image/png;base64,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)](https://ingenieria.unlam.edu.ar/)  \n",
    "[![by-nc-sa_80x15.png](data:image/png;base64,iVBORw0KGgoAAAANSUhEUgAAAFAAAAAPCAMAAABEF7i9AAAABGdBTUEAANbY1E9YMgAAAJZQTFRF////7u7u3d3dys7KzMzMyMzIxsrGxcbFur+6u7u7s7iyq7GqqqqqmZmZlJmTj5CPiIiIh4eHhoaGgICAfYJ9d3d3cnZxZ2tnZmZmW15bVVVVS0xLREREQ0NDQkJCQUJBOz07OTs5MzMzMTMxLjAuJygnJCUjIiIiISEhICAgGRkZERERDxAPDg4ODQ4NDQ0NDQ0MAAAADbeuvgAAAOhJREFUeNqtk+tyAiEMhQ+6XtroutZiveBdu+p2tXn/l3OQy8roL5fMMENC+HIIAI5sYEQ1DSRtP5zZkCpToubf2/oMMC0zX0QdiLqjmsD1sVKd8JSoNa8HvGRIclZCcZ5A7Yiag/s6oJPMYD8FKgIC3wG/+QP5DFIWot+DvBB1OxYAk+W2W88HqqwAOOZE6FuZbfWZZUn02fb1rTAHc3izZgQCrxWqSSFkH/IaKuSHEzEChfyk2PbwmqFX8EQo3jaw2Ac9DIFhD12Tn4CbU+RbTv+HHrj8jfAOacxflrc61/0psf9yZLsBr5WUrhUa3hEAAAAASUVORK5CYII=)](https://creativecommons.org/licenses/by-sa/4.0/deed.es_ES) \n",
    "2025 [Víctor A. Bettachini](mailto:vbettachini@unlam.edu.ar)  \n",
    "\n",
    "---"
   ]
  },
  {
   "cell_type": "markdown",
   "metadata": {
    "id": "iGvyzqltAcze"
   },
   "source": [
    "## ¿Qué son _Python_, _Jupyter_ y _Google Colaboratory_?\n",
    "[**_Python_**](https://www.python.org/) es un lenguaje de programación.\n",
    "Los comandos que escribimos podemos ejectuarlos de a uno en lo que se llama el interprete, o en conjuntos de ellos que conforman un texto que se llama código que ejecuta secuencialmente todos los comandos que hayamos escrito en ese código.\n",
    "Tal código de **_Python_** puede escribirse en un simple editor de texto, o algo más sosfisticado como la interfaz web (se vé en un navegador o browser) que estamos usando que se llama [**JupyterLab**](https://jupyter.org/).\n",
    "\n",
    "Los documentos de **Jupyter** se llaman **cuadernos** (notebooks) que internamente se dividen en celdas.\n",
    "Estas además de poder contener código de **Python** (y otros muchos otros lenguajes de programación) pueden contener texto con formato (títulos, negrita, itálica, listas, etc.) siguiendo las convenciones [**markdown**](https://daringfireball.net/projects/markdown/) o imágenes, reproductores de sonidos o videos, etc.\n",
    "Algó que nos es muy útil del **markdown** es que podemos intercalar fórmulas matemáticas escritas en formato [$\\LaTeX$](https://www.latex-project.org/).\n",
    "Los archivos que contienen los **cuadernos** son de texto plano (legibles con cualquier editor de texto) y extensión `.ipynb`.\n",
    "\n",
    "Existen muchas implementaciones que nos permiten ejecutar **cuadernos** de **Jupyter**.\n",
    "La que estamos usando es [**_Google Colaboratory_**](https://colab.research.google.com/), usualmente llamado simplemente **_Colab_**, que se accede en línea y por tanto no nos obliga a configurar nada en la computadora, tableta o teléfono.\n",
    "Hay varios otros y más adelante podrán usar otros y elegir el que más les guste, por ahora convenimos en el curso de trabajar en **_Colab_**."
   ]
  },
  {
   "cell_type": "markdown",
   "metadata": {},
   "source": [
    "## ¿Cómo empezar?"
   ]
  },
  {
   "cell_type": "markdown",
   "metadata": {},
   "source": [
    "Si seleccionan en el menú de **_Colab_** `Archivo` alguna opción de `Guardar una copia...`, tal copia la podrán modificar y jugar con ella a gusto, lo cual es altamente recomendable hacer.\n",
    "Las dudas más comunes que inmediatamente aparecen son: ¿Se puede hacer tal cosa? ¿Se podrá hacer de otra manera? ¿Qué pasa si hago tal cosa?\n",
    "Las mejores respuestas siempre las van a obtener ensayando por ustedes mismos."
   ]
  },
  {
   "cell_type": "markdown",
   "metadata": {},
   "source": [
    "## A trabajar\n",
    "En la celda de abajo van a ver el comando que ejecuta el primer programa que cualquiera que aprende un nuevo lenguaje de programación realiza.\n",
    "¿Qué hace?"
   ]
  },
  {
   "cell_type": "code",
   "execution_count": 2,
   "metadata": {
    "colab": {
     "base_uri": "https://localhost:8080/",
     "height": 34
    },
    "id": "5zcrEw6RL2He",
    "outputId": "acbe9c97-e636-48ac-957b-9806394d21ad"
   },
   "outputs": [
    {
     "name": "stdout",
     "output_type": "stream",
     "text": [
      "hola mundo\n"
     ]
    }
   ],
   "source": [
    "print('hola mundo')"
   ]
  },
  {
   "cell_type": "markdown",
   "metadata": {},
   "source": [
    "No hay mejor manera de averiguar que hace un comando que ejecutarlo.\n",
    "Para eso en los _cuadernos de Jupyter_ basta con seleccionar la celda con un clic y luego presionar la tecla de mayúsculas `shift` y mientras se la mantiene presionada presionar la de retorno `enter`.\n",
    "\n",
    "Otra opción es presionar el botón a la izquierda de la celda que tiene forma de triángulo apuntando a la derecha (▶️).\n",
    "\n",
    "Ensaye cambiar el texto entre comillas simples y vuelva a ejecutar la celda."
   ]
  },
  {
   "cell_type": "markdown",
   "metadata": {
    "id": "SVAFo3v-L7e9"
   },
   "source": [
    "## _Python_ puede suplir la calculadora\n",
    "Pueden sumar, restar, multiplicar, dividir, elevar un número a alguna potencia."
   ]
  },
  {
   "cell_type": "code",
   "execution_count": 3,
   "metadata": {
    "colab": {
     "base_uri": "https://localhost:8080/",
     "height": 34
    },
    "id": "YBf8f7ECMdy-",
    "outputId": "b7df92fb-1dd7-4b86-acf3-c37c15900dc0"
   },
   "outputs": [
    {
     "data": {
      "text/plain": [
       "3"
      ]
     },
     "execution_count": 3,
     "metadata": {},
     "output_type": "execute_result"
    }
   ],
   "source": [
    "1+2"
   ]
  },
  {
   "cell_type": "code",
   "execution_count": 4,
   "metadata": {
    "colab": {
     "base_uri": "https://localhost:8080/",
     "height": 34
    },
    "id": "4BXpxZ0JMi1d",
    "outputId": "28fe8e20-27b8-4e3f-d42f-f4c9c4bef4fe"
   },
   "outputs": [
    {
     "data": {
      "text/plain": [
       "32"
      ]
     },
     "execution_count": 4,
     "metadata": {},
     "output_type": "execute_result"
    }
   ],
   "source": [
    "8*4"
   ]
  },
  {
   "cell_type": "markdown",
   "metadata": {
    "id": "sE52LUXGMj3O"
   },
   "source": [
    "¡Cuidado! Si escribo más de un renglón en una celda hace todas las cuentas pero me muestra solo la última"
   ]
  },
  {
   "cell_type": "code",
   "execution_count": 5,
   "metadata": {
    "colab": {
     "base_uri": "https://localhost:8080/",
     "height": 34
    },
    "id": "mYY4dlKoMsLI",
    "outputId": "0bf7f0ac-f643-438e-9623-e74242ce032a"
   },
   "outputs": [
    {
     "data": {
      "text/plain": [
       "40"
      ]
     },
     "execution_count": 5,
     "metadata": {},
     "output_type": "execute_result"
    }
   ],
   "source": [
    "1+1\n",
    "8*5"
   ]
  },
  {
   "cell_type": "markdown",
   "metadata": {
    "id": "rNkABDw6MuVY"
   },
   "source": [
    "Por eso usamos la función print si queremos que se muestre algo que no está al final"
   ]
  },
  {
   "cell_type": "code",
   "execution_count": 6,
   "metadata": {
    "colab": {
     "base_uri": "https://localhost:8080/",
     "height": 104
    },
    "id": "thvm0NpAM05v",
    "outputId": "941920a6-7d66-49e6-81c4-17878bb7a44c"
   },
   "outputs": [
    {
     "name": "stdout",
     "output_type": "stream",
     "text": [
      "9\n",
      "21\n",
      "3.5\n",
      "25\n",
      "5.0\n"
     ]
    }
   ],
   "source": [
    "print(7+2)\n",
    "print(7*3)\n",
    "print(7/2)\n",
    "print(5**2)\n",
    "print(25**0.5)"
   ]
  },
  {
   "cell_type": "markdown",
   "metadata": {
    "id": "X8pmz5SGM1s4"
   },
   "source": [
    "## Variables\n",
    "Como en la calculadora, puedo guardar resultados en variables.\n",
    "Para hacerlo solo tengo que elegir el nombre de mi variable (no puede empezar con un número) y guardar el número que quiero en esa variable usando un igual como se muestra en la celda de abajo"
   ]
  },
  {
   "cell_type": "code",
   "execution_count": 7,
   "metadata": {
    "colab": {
     "base_uri": "https://localhost:8080/",
     "height": 34
    },
    "id": "zGSI_NzyNOpI",
    "outputId": "081d5e70-4b8c-483b-c57d-6f3cd52781af"
   },
   "outputs": [],
   "source": [
    "a = 3\n",
    "b = 2\n",
    "lala = a*b"
   ]
  },
  {
   "cell_type": "markdown",
   "metadata": {},
   "source": [
    "Esto en computación se llama asignación.\n",
    "A la derecha del igual se hacen todas las cuentas y el resultado se guarda en el símbolo de la izquierda\n",
    "Es decir, se guardó en la variable `lala` el resultado de multiplicar `a` por `b`, que es 6.\n",
    "\n",
    "Pero, si se quiere leer el valor de `lala`, basta con ejecutar una celda con ese nombre de variable. ¡Ensayalo!"
   ]
  },
  {
   "cell_type": "code",
   "execution_count": 8,
   "metadata": {},
   "outputs": [
    {
     "data": {
      "text/plain": [
       "6"
      ]
     },
     "execution_count": 8,
     "metadata": {},
     "output_type": "execute_result"
    }
   ],
   "source": [
    "lala"
   ]
  }
 ],
 "metadata": {
  "colab": {
   "name": "Intro_Python_2c2020.ipynb",
   "provenance": []
  },
  "kernelspec": {
   "display_name": "jupyter",
   "language": "python",
   "name": "python3"
  },
  "language_info": {
   "codemirror_mode": {
    "name": "ipython",
    "version": 3
   },
   "file_extension": ".py",
   "mimetype": "text/x-python",
   "name": "python",
   "nbconvert_exporter": "python",
   "pygments_lexer": "ipython3",
   "version": "3.11.2"
  }
 },
 "nbformat": 4,
 "nbformat_minor": 4
}
