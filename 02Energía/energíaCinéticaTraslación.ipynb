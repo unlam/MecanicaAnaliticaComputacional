{
 "cells": [
  {
   "cell_type": "markdown",
   "id": "2f8f9957-048c-4581-9b91-7244ee40157a",
   "metadata": {},
   "source": [
    "# Energía cinética de traslación"
   ]
  },
  {
   "cell_type": "markdown",
   "id": "7375ede8",
   "metadata": {},
   "source": [
    "[![ingenieria_logo_schwarz.png](data:image/png;base64,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)](https://ingenieria.unlam.edu.ar/)  \n",
    "[![by-nc-sa_80x15.png](data:image/png;base64,iVBORw0KGgoAAAANSUhEUgAAAFAAAAAPCAMAAABEF7i9AAAABGdBTUEAANbY1E9YMgAAAJZQTFRF////7u7u3d3dys7KzMzMyMzIxsrGxcbFur+6u7u7s7iyq7GqqqqqmZmZlJmTj5CPiIiIh4eHhoaGgICAfYJ9d3d3cnZxZ2tnZmZmW15bVVVVS0xLREREQ0NDQkJCQUJBOz07OTs5MzMzMTMxLjAuJygnJCUjIiIiISEhICAgGRkZERERDxAPDg4ODQ4NDQ0NDQ0MAAAADbeuvgAAAOhJREFUeNqtk+tyAiEMhQ+6XtroutZiveBdu+p2tXn/l3OQy8roL5fMMENC+HIIAI5sYEQ1DSRtP5zZkCpToubf2/oMMC0zX0QdiLqjmsD1sVKd8JSoNa8HvGRIclZCcZ5A7Yiag/s6oJPMYD8FKgIC3wG/+QP5DFIWot+DvBB1OxYAk+W2W88HqqwAOOZE6FuZbfWZZUn02fb1rTAHc3izZgQCrxWqSSFkH/IaKuSHEzEChfyk2PbwmqFX8EQo3jaw2Ac9DIFhD12Tn4CbU+RbTv+HHrj8jfAOacxflrc61/0psf9yZLsBr5WUrhUa3hEAAAAASUVORK5CYII=)](https://creativecommons.org/licenses/by-sa/4.0/deed.es_ES) \n",
    "2025 [Víctor A. Bettachini](mailto:vbettachini@unlam.edu.ar)  \n",
    "\n",
    "---"
   ]
  },
  {
   "cell_type": "markdown",
   "id": "684b219c-04a8-4f69-86bd-245f28d376b1",
   "metadata": {},
   "source": [
    "## Definición\n",
    "La energía cinética de una partícula puntual de masa $m$ es \n",
    "$$\n",
    "T= \\frac{m}{2} \\left(\\dot{\\vec{r}}\\right)^2 = \\frac{m}{2} \\left(\\dot{\\vec{r}} \\cdot \\dot{\\vec{r}}\\right) = \\frac{m}{2} \\left(\\dot{r_i}^2+ \\dot{r_j}^2+ \\dot{r_k}^2 \\right), \n",
    "$$\n",
    "función de las coordenadas en la tríada de versores $\\hat{i}, \\hat{j}, \\hat{k}$.\n",
    "\n",
    "Esto para un sistema de coordenadas cartesianas es\n",
    "$$\n",
    "T= \\frac{m}{2} \\left(\\dot{x}^2+ \\dot{y}^2+ \\dot{z}^2 \\right) .\n",
    "$$"
   ]
  },
  {
   "cell_type": "markdown",
   "id": "514a5303-0605-4e09-a2ef-5db4726f23ab",
   "metadata": {
    "id": "ZsZm0g-5U-zK"
   },
   "source": [
    "## ¿Cómo calcularemos $T$ en esta asignatura?\n",
    "Escribiremos código para resolver cada ejercicio. La implementación de Python dentro de Jupyter hará que operemos con él como un lenguaje interpretado. Esto resulta en que podemos ejecutar parte de un programa, revisar y modificar variables y ejecutar nuevamente esta u hacer lo propio con otras partes.\n",
    "\n",
    "Esto es diametralmente opuesto a lo que ocurre en un lenguaje compilado, como C/C++, donde hay que escribir todo el código para ver resultados.\n",
    "Aprovecharemos esta característica para ir construyendo el código de a partes, revisando resultados parciales."
   ]
  },
  {
   "cell_type": "markdown",
   "id": "0843ad1c",
   "metadata": {},
   "source": [
    "Lo primero que vamos a ejecutar en una sesión es el _importar_ las bibliotecas de funciones para mecánica, la parte de la física que nos ocupa en esta asignatura. "
   ]
  },
  {
   "cell_type": "code",
   "execution_count": 35,
   "id": "65922bac-9800-4b7b-98ae-d24ae41706cd",
   "metadata": {},
   "outputs": [],
   "source": [
    "import sympy as sm # importamos funciones de cálculo simbólico\n",
    "from sympy.physics import mechanics as me # de sympy utilizaremos funciones de mecánica\n",
    "me.init_vprinting() # notación con punto para la velocidad y punto punto para la aceleración"
   ]
  },
  {
   "cell_type": "markdown",
   "id": "1d3bd0ee-e17a-4914-b016-c64aeab00d8c",
   "metadata": {
    "id": "Jj31ILRvU-zM"
   },
   "source": [
    "Definimos el símbolo para una partícula puntual de masa $m_1$."
   ]
  },
  {
   "cell_type": "code",
   "execution_count": 36,
   "id": "3adf750a",
   "metadata": {},
   "outputs": [],
   "source": [
    "m1 = sm.symbols('m_1', positive=True) # las masas son siempre positivas"
   ]
  },
  {
   "cell_type": "markdown",
   "id": "0c9e8eae",
   "metadata": {},
   "source": [
    "Tal partícula debe ubicarse en el espacio. Para esto definimos un marco de referencias en coordenadas cartesianas."
   ]
  },
  {
   "cell_type": "code",
   "execution_count": 37,
   "id": "c3e732c2",
   "metadata": {},
   "outputs": [],
   "source": [
    "e = me.ReferenceFrame('e') # marco referencial o en coordenadas cartesianas"
   ]
  },
  {
   "cell_type": "markdown",
   "id": "5fd3c64d",
   "metadata": {},
   "source": [
    "En este caso se desplazará en el eje $x$ de este sistema de coordenadas, $\\hat{e}_x$, por lo que es necesario definir su coordenada en tal eje $x_1$."
   ]
  },
  {
   "cell_type": "code",
   "execution_count": 38,
   "id": "78d0c531",
   "metadata": {},
   "outputs": [],
   "source": [
    "x_1 = me.dynamicsymbols('x_1') # x cambiara con el tiempo, por tanto es una variable dinámica"
   ]
  },
  {
   "cell_type": "markdown",
   "id": "e64db56c",
   "metadata": {},
   "source": [
    "Con todo lo anterior puede definirse la posición de esta partícula.\n",
    "$$\n",
    "\\begin{aligned}\n",
    "\\vec{r}_1 \n",
    "&= x_1 \\hat{e}_x.\n",
    "\\end{aligned}\n",
    "$$"
   ]
  },
  {
   "cell_type": "code",
   "execution_count": 39,
   "id": "b28f0d23-60a5-4530-babd-e50feba08287",
   "metadata": {
    "colab": {
     "base_uri": "https://localhost:8080/",
     "height": 38
    },
    "id": "N4PI5UJdU-zO",
    "outputId": "0ee85c9e-5c96-4fa5-96c8-e8cf9443a391"
   },
   "outputs": [
    {
     "data": {
      "image/png": "[encoded data removed]",
      "text/latex": [
       "$\\displaystyle x_{1}\\mathbf{\\hat{e}_x}$"
      ],
      "text/plain": [
       "x₁ e_x"
      ]
     },
     "execution_count": 39,
     "metadata": {},
     "output_type": "execute_result"
    }
   ],
   "source": [
    "partícula1_r = x_1 * e.x\n",
    "partícula1_r"
   ]
  },
  {
   "cell_type": "markdown",
   "id": "4dc82844-5261-45ba-a840-12e98cf9a82a",
   "metadata": {
    "id": "Hu_-KzxWU-zR"
   },
   "source": [
    "[Python](https://www.python.org/), como cualquier otro lenguaje de programación es capaz hacer cuentas como una calculadora.\n",
    "Esto se llama cálculo numérico.\n",
    "En contrapartida, la biblioteca [SymPy](https://www.sympy.org/en/index.html) permite operar en forma simbólica habilitando resolver cuestiones de análisis y álgebra.\n",
    "Por ejemplo permite derivar en función del tiempo la posición de la partícula de masa $m_1$\n",
    "$$\n",
    "\\dot{\\vec{r}}_1 = \\dot{x} \\hat{x}\n",
    "$$"
   ]
  },
  {
   "cell_type": "code",
   "execution_count": 40,
   "id": "b41a5e27-078e-41ef-9bd6-3573e1d7dc7f",
   "metadata": {
    "colab": {
     "base_uri": "https://localhost:8080/",
     "height": 37
    },
    "id": "acx4XkyTU-zR",
    "outputId": "c05f4b91-64d1-4bf0-c03e-aeecc6656929"
   },
   "outputs": [
    {
     "data": {
      "image/png": "[encoded data removed]",
      "text/latex": [
       "$\\displaystyle \\dot{x}_{1}\\mathbf{\\hat{e}_x}$"
      ],
      "text/plain": [
       "x₁̇ e_x"
      ]
     },
     "execution_count": 40,
     "metadata": {},
     "output_type": "execute_result"
    }
   ],
   "source": [
    "partícula1_v = partícula1_r.dt(e) # deriva respecto a t en el sistema de referencia e\n",
    "partícula1_v"
   ]
  },
  {
   "cell_type": "markdown",
   "id": "d48cf997-cff6-4e24-961b-f1dcc05ebcdf",
   "metadata": {},
   "source": [
    "Como las velocidades son vectores es práctico calcular el cuadrado de las velocidades usando el producto escalar llamado también producto punto (_dot_ en inglés)\n",
    "$$\n",
    "\\left( \\dot{\\vec{r}} \\right)^2 = \\dot{\\vec{r}} \\cdot \\dot{\\vec{r}} .\n",
    "$$"
   ]
  },
  {
   "cell_type": "code",
   "execution_count": 41,
   "id": "b96e0e8d-a69f-44c4-8556-d9a8022896eb",
   "metadata": {
    "id": "sclpuYXuU-zV"
   },
   "outputs": [
    {
     "data": {
      "image/png": "[encoded data removed]",
      "text/latex": [
       "$\\displaystyle T_{traslación} = \\frac{m_{1} \\dot{x}_{1}^{2}}{2}$"
      ],
      "text/plain": [
       "                      2\n",
       "                 m₁⋅x₁̇ \n",
       "T_{traslación} = ──────\n",
       "                   2   "
      ]
     },
     "execution_count": 41,
     "metadata": {},
     "output_type": "execute_result"
    }
   ],
   "source": [
    "# Energía cinética\n",
    "unMedio = sm.Rational(1,2) # Rational: fracción de enteros\n",
    "partícula1_T = sm.Eq(\n",
    "  sm.Symbol('T_{traslación}'),\n",
    "  unMedio * m1 * partícula1_v.dot(partícula1_v)\n",
    "  ) # Eq define una ecuación\n",
    "partícula1_T"
   ]
  },
  {
   "cell_type": "markdown",
   "id": "4c5a5489-f8cb-4f37-b399-b9e67de0d179",
   "metadata": {},
   "source": [
    "### Sistema de N partículas"
   ]
  },
  {
   "cell_type": "markdown",
   "id": "2696164d-cf8f-426f-b86b-96e31f0be2c8",
   "metadata": {},
   "source": [
    "Para obtener la $T$ de un sistema hay $N$ partículas se suman todas sus $T$. E.g. para un sistema con dos partículas\n",
    "$$\n",
    "T = \\sum_{i=1}^{N=2} \\frac{m_i}{2} \\left( \\dot{\\vec{r}}_i \\right)^2 = \\frac{m_1}{2} \\left( \\dot{\\vec{r}}_1 \\right)^2 + \\frac{m_2}{2} \\left( \\dot{\\vec{r}}_2 \\right)^2 .\n",
    "$$\n",
    "\n",
    "Si, como en el ejemplo anterior las partículas están confinadas al eje $x$ de un sistema de coordenadas cartesianas, la $T$ se simplifica a\n",
    "$$\n",
    "T = \\frac{m_1}{2} \\left( \\dot{x}_1 \\right)^2 + \\frac{m_2}{2} \\left( \\dot{x}_2 \\right)^2 .\n",
    "$$"
   ]
  },
  {
   "cell_type": "markdown",
   "id": "bb261596-1bd8-480e-b0b7-9dc9bb3a9440",
   "metadata": {
    "id": "Q3EYjQDwU-zN"
   },
   "source": [
    "Para esto necesitamos definir varios símbolos, $m_1$ y $m_2$, además de múltiples coordenadas, $x_1$ y $x_2$.\n",
    "\n",
    "En caso de que deseemos definir más de una variable dinámica basta sumarla directamente en la línea anterior.\n",
    "Por ejemplo, podemos definir $x_1$ y $x_2$ por medio de  \n",
    "`x1, x2 = me.dynamicsymbols('x_1, x_2')`"
   ]
  },
  {
   "cell_type": "code",
   "execution_count": 42,
   "id": "cc7d8439-12de-4323-bd1d-e6485aaf4f38",
   "metadata": {
    "tags": []
   },
   "outputs": [],
   "source": [
    "# Parámetros físicos del sistema, i.e. las masas\n",
    "m1, m2 = sm.symbols('m_1, m_2', positive=True) # las masas son siempre positivas"
   ]
  },
  {
   "cell_type": "markdown",
   "id": "55774455-62e4-4d74-acc0-729dad06b225",
   "metadata": {
    "id": "Q3EYjQDwU-zN"
   },
   "source": [
    "En este caso llamamos al marco de referencia \"N\", sin embargo, podemos utilizar cualquier notación que nos resulte cómoda, por ejemplo:\n",
    "`e = me.ReferenceFrame('e')`\n",
    "en este caso entonces utilizaríamos la notación `x1 * e.x` para indicar $x_1 \\hat{e}_x$"
   ]
  },
  {
   "cell_type": "code",
   "execution_count": 43,
   "id": "1706ab65-bdeb-4f18-a7e5-9d4f18563d8d",
   "metadata": {},
   "outputs": [],
   "source": [
    "# Posiciones\n",
    "e = me.ReferenceFrame('e')\n",
    "x1, x2 = me.dynamicsymbols('x_1, x_2')\n",
    "partícula1_r = x1 * e.x # m1_r : para la masa 1 su posición r\n",
    "partícula2_r = x2 * e.x \n",
    "\n",
    "# Velocidades\n",
    "partícula1_v = partícula1_r.dt(e)\n",
    "partícula2_v = partícula2_r.dt(e)"
   ]
  },
  {
   "cell_type": "code",
   "execution_count": 44,
   "id": "1dc98352",
   "metadata": {},
   "outputs": [
    {
     "data": {
      "image/png": "[encoded data removed]",
      "text/latex": [
       "$\\displaystyle T_{traslación} = \\frac{m_{1} \\dot{x}_{1}^{2}}{2}$"
      ],
      "text/plain": [
       "                    2\n",
       "               m₁⋅x₁̇ \n",
       "T_traslación = ──────\n",
       "                 2   "
      ]
     },
     "execution_count": 44,
     "metadata": {},
     "output_type": "execute_result"
    }
   ],
   "source": [
    "# Energía cinética partícula 1\n",
    "partícula1_T = sm.Eq(\n",
    "  sm.Symbol('T_traslación'),\n",
    "  unMedio * m1 * partícula1_v.dot(partícula1_v) # un medio de la masa por la velocidad al cuadrado\n",
    "  ) # Eq define una ecuación\n",
    "partícula1_T"
   ]
  },
  {
   "cell_type": "code",
   "execution_count": 45,
   "id": "8f41aab7",
   "metadata": {},
   "outputs": [
    {
     "data": {
      "image/png": "[encoded data removed]",
      "text/latex": [
       "$\\displaystyle T_{traslación} = \\frac{m_{2} \\dot{x}_{2}^{2}}{2}$"
      ],
      "text/plain": [
       "                    2\n",
       "               m₂⋅x₂̇ \n",
       "T_traslación = ──────\n",
       "                 2   "
      ]
     },
     "execution_count": 45,
     "metadata": {},
     "output_type": "execute_result"
    }
   ],
   "source": [
    "# Energía cinética partícula 2\n",
    "partícula2_T = sm.Eq(\n",
    "  sm.Symbol('T_traslación'),\n",
    "  unMedio * m2 * partícula2_v.dot(partícula2_v)\n",
    "  )\n",
    "partícula2_T"
   ]
  },
  {
   "cell_type": "markdown",
   "id": "48e1d430",
   "metadata": {},
   "source": [
    "Se termina reiterando la escritura de líneas de código idénticas, lo que puede evitarse en cualquier lenguaje de programación.\n",
    "Más adelante se retoma tal idea, pero de momento se suman las energías cinéticas de las partículas."
   ]
  },
  {
   "cell_type": "code",
   "execution_count": 46,
   "id": "3dda02ab",
   "metadata": {},
   "outputs": [
    {
     "data": {
      "image/png": "[encoded data removed]",
      "text/latex": [
       "$\\displaystyle T_{traslación} = \\frac{m_{1} \\dot{x}_{1}^{2}}{2} + \\frac{m_{2} \\dot{x}_{2}^{2}}{2}$"
      ],
      "text/plain": [
       "                    2        2\n",
       "               m₁⋅x₁̇    m₂⋅x₂̇ \n",
       "T_traslación = ────── + ──────\n",
       "                 2        2   "
      ]
     },
     "execution_count": 46,
     "metadata": {},
     "output_type": "execute_result"
    }
   ],
   "source": [
    "# Energía cinética total\n",
    "T = sm.Eq(\n",
    "  partícula1_T.lhs,\n",
    "  partícula1_T.rhs + partícula2_T.rhs\n",
    "  ) # Se suman los lados derechos (rhs: right hand side), y se mantiene el lado izquierdo de una (lhs: left hand side)\n",
    "T"
   ]
  },
  {
   "cell_type": "markdown",
   "id": "ddd79670-86a3-4111-8871-c96cf0dccbb6",
   "metadata": {},
   "source": [
    "Con todo lo visto se pueden resolver los problemas que figuran en la guía de ejercicios. \n",
    "\n",
    "Como referencia resolveremos a continuación uno de estos."
   ]
  },
  {
   "cell_type": "markdown",
   "id": "bd5cb554-23d8-447c-8c63-d60961a628d1",
   "metadata": {},
   "source": [
    "## Un ejercicio hecho desde el principio | Péndulo con punto de suspensión libre"
   ]
  },
  {
   "cell_type": "markdown",
   "id": "b69f55eb-1ec9-4d24-a43a-431243982a7c",
   "metadata": {
    "id": "b8NARx5SU-zF"
   },
   "source": [
    "> Bibliografía:\n",
    ">- Sección 5 ($\\S 5$) Ejercicio 2  \n",
    "Mecánica  \n",
    "Lev Davidovich Landau, y E. M. Lifshitz  \n",
    "Reverté, 1994"
   ]
  },
  {
   "cell_type": "markdown",
   "id": "3e3b81a7",
   "metadata": {},
   "source": [
    "### Enunciado\n",
    "\n",
    "Péndulo plano de masa $m_2$, cuyo punto de suspensión (de masa $m_1$) puede desplazarse en el mismo plano sobre una recta horizontal.\n",
    "\n",
    "La cuerda que une las partículas de masas $m_1$ y $m_2$ se considera rígida (no se dobla) y, por tanto, mantiene una distancia constante de $\n",
    "\\ell$ entre ambas.\n",
    "\n",
    "Escriba la energía cinética, $T$ en función de las coordenadas indicadas por la figura: $x, \\phi$."
   ]
  },
  {
   "cell_type": "markdown",
   "id": "08bab882-7fb5-45f2-8984-13c2569bf199",
   "metadata": {},
   "source": [
    "![old_landauS52_fig2.png](data:image/png;base64,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)"
   ]
  },
  {
   "cell_type": "markdown",
   "id": "8b699c83-3af1-4b5e-8dc3-c61675aad7df",
   "metadata": {},
   "source": [
    "### Posiciones"
   ]
  },
  {
   "cell_type": "markdown",
   "id": "898e4b83-824c-4d7b-8e66-9f02cb8b56a9",
   "metadata": {},
   "source": [
    "Se importan las bibliotecas de funciones a agregar a las básicas de Python."
   ]
  },
  {
   "cell_type": "code",
   "execution_count": 47,
   "id": "928e5572-7a3c-471c-8bec-5de6754458b6",
   "metadata": {
    "id": "rrFNMxFKU-zL"
   },
   "outputs": [],
   "source": [
    "# Importar funciones de mecánica de SymPy.\n",
    "import sympy as sm # importamos funciones de cálculo simbólico\n",
    "from sympy.physics import mechanics as me # de sympy utilizaremos funciones de mecánica\n",
    "me.init_vprinting() # notación con punto para la velocidad y punto punto para la aceleración"
   ]
  },
  {
   "cell_type": "markdown",
   "id": "32dde23b-af26-42ce-be82-3e24f8934514",
   "metadata": {},
   "source": [
    "Establecemos un sistema de referencia."
   ]
  },
  {
   "cell_type": "code",
   "execution_count": 48,
   "id": "06da7983-4e66-45ec-ad78-24ffb3c065a1",
   "metadata": {},
   "outputs": [],
   "source": [
    "# Establece sistema de referencia\n",
    "e = me.ReferenceFrame('e') # marco referencial o en coordenadas cartesianas"
   ]
  },
  {
   "cell_type": "markdown",
   "id": "b4a56c19-8041-43c1-bbc9-1f41bb277f0a",
   "metadata": {
    "tags": []
   },
   "source": [
    "La posición para la partícula de masa $m_1$, esto es $\\vec{r}_1$"
   ]
  },
  {
   "cell_type": "code",
   "execution_count": 49,
   "id": "0c6cbf57-3982-42a4-a44c-20f1ad70bee4",
   "metadata": {},
   "outputs": [
    {
     "data": {
      "image/png": "[encoded data removed]",
      "text/latex": [
       "$\\displaystyle x\\mathbf{\\hat{e}_x}$"
      ],
      "text/plain": [
       "x e_x"
      ]
     },
     "execution_count": 49,
     "metadata": {},
     "output_type": "execute_result"
    }
   ],
   "source": [
    "# posición de primer partícula\n",
    "x = me.dynamicsymbols('x') # x cambiara con el tiempo, por tanto es una variable dinámica\n",
    "partícula1_r = x * e.x # posición de la partícula de masa m1\n",
    "partícula1_r"
   ]
  },
  {
   "cell_type": "markdown",
   "id": "54fb7ef3-3248-414c-82e3-76d9e12c42c1",
   "metadata": {
    "id": "Zs6gFuu3U-zO"
   },
   "source": [
    "La partícula de masa $m_2$ mantiene siempre una separación de $\\ell$ respecto a la de $m_1$.\n",
    "Su posición se define a partir de esta.\n",
    "Solo hay que hacer la proyección en el sistema de referencia en función de la coordenada $\\phi$,\n",
    "$$\n",
    "\\begin{aligned}\n",
    "\\vec{r}_2 \n",
    "&= \\vec{r}_1 + \\ell \\left( \\sin{(\\phi)} \\hat{x} +  \\cos{(\\phi)} (- \\hat{y}) \\right) \\\\\n",
    "&= \\left( \\ell \\sin{(\\phi)} + x \\right) \\hat{x} -\\ell \\cos{(\\phi)}  \\hat{y}.\n",
    "\\end{aligned}\n",
    "$$\n",
    "\n",
    "Describir las posiciones en función de la geometría es el **procedimiento central** para la resolución de este problema. "
   ]
  },
  {
   "cell_type": "markdown",
   "id": "d1836444-d7bc-449f-b86d-73c86dbad8e7",
   "metadata": {
    "id": "UWo9ysHFU-zP"
   },
   "source": [
    "La longitud del péndulo $\\ell$ es una característica del sistema que **no varía** con el transcurrir del tiempo.\n",
    "Lo mismo sucede con las masas de las partículas.\n",
    "**No son variables** por lo que no tiene sentido declararles como tales, pero son **símbolos** con los que el código debe ser capaz de operar."
   ]
  },
  {
   "cell_type": "code",
   "execution_count": 50,
   "id": "a629911f-3f6d-4416-9ade-547888e70e8f",
   "metadata": {
    "id": "xqqWjFsQU-zP"
   },
   "outputs": [
    {
     "name": "stderr",
     "output_type": "stream",
     "text": [
      "<>:2: SyntaxWarning: invalid escape sequence '\\e'\n",
      "<>:2: SyntaxWarning: invalid escape sequence '\\e'\n",
      "/tmp/ipykernel_11528/3675131194.py:2: SyntaxWarning: invalid escape sequence '\\e'\n",
      "  m1, m2, l = sm.symbols('m_1, m_2, \\ell', positive=True) # Escribirlos tras el subguión hace que los números aparezcan como subíndices.\n"
     ]
    }
   ],
   "source": [
    "# Defino los parámetros físicos del sistema\n",
    "m1, m2, l = sm.symbols('m_1, m_2, \\ell', positive=True) # Escribirlos tras el subguión hace que los números aparezcan como subíndices. "
   ]
  },
  {
   "cell_type": "markdown",
   "id": "eb13d0ee-2700-4fa4-bd85-b96f8ad47864",
   "metadata": {
    "id": "jJEM3u7xU-zQ"
   },
   "source": [
    "Declarar $\\phi$ como variable y hacer uso de las funciones trigonométricas de SymPy permite escribir la posición de la partícula de masa $m_2$."
   ]
  },
  {
   "cell_type": "code",
   "execution_count": 51,
   "id": "14e93017-b53f-44de-93ac-9861487f4328",
   "metadata": {
    "colab": {
     "base_uri": "https://localhost:8080/",
     "height": 38
    },
    "id": "XnpO4ljSU-zQ",
    "outputId": "2864ef47-7c69-4f27-ddbe-e27a36df4695"
   },
   "outputs": [
    {
     "data": {
      "image/png": "[encoded data removed]",
      "text/latex": [
       "$\\displaystyle (\\ell \\sin{\\left(\\phi \\right)} + x)\\mathbf{\\hat{e}_x} -  \\ell \\cos{\\left(\\phi \\right)}\\mathbf{\\hat{e}_y}$"
      ],
      "text/plain": [
       "(\\ell⋅sin(φ) + x) e_x + -\\ell⋅cos(φ) e_y"
      ]
     },
     "execution_count": 51,
     "metadata": {},
     "output_type": "execute_result"
    }
   ],
   "source": [
    "# posición de la segunda partícula\n",
    "phi = me.dynamicsymbols('phi')\n",
    "partícula2_r = partícula1_r + l * ( sm.sin(phi) * e.x + sm.cos(phi) * (-e.y) )  # y versor apunta hacia arriba\n",
    "partícula2_r"
   ]
  },
  {
   "cell_type": "markdown",
   "id": "dfee0dbd-c2b5-4067-833f-9efecb0bb3ec",
   "metadata": {
    "id": "Hu_-KzxWU-zR"
   },
   "source": [
    "### Velocidades\n",
    "Derivar la posición en función del tiempo la posición de la partícula de masa $m_1$ para obtener su velocidad\n",
    "$$\n",
    "\\dot{\\vec{r}}_1 = \\dot{x} \\hat{x}\n",
    "$$"
   ]
  },
  {
   "cell_type": "code",
   "execution_count": 52,
   "id": "e19d6ca9",
   "metadata": {},
   "outputs": [
    {
     "data": {
      "image/png": "[encoded data removed]",
      "text/latex": [
       "$\\displaystyle \\dot{x}\\mathbf{\\hat{e}_x}$"
      ],
      "text/plain": [
       "ẋ e_x"
      ]
     },
     "execution_count": 52,
     "metadata": {},
     "output_type": "execute_result"
    }
   ],
   "source": [
    "partícula1_v = partícula1_r.dt(e) # deriva respecto a t en el sistema de referencia e\n",
    "partícula1_v"
   ]
  },
  {
   "cell_type": "markdown",
   "id": "d285442a",
   "metadata": {},
   "source": [
    "es un ejercicio trivial."
   ]
  },
  {
   "cell_type": "markdown",
   "id": "c2f30bf6",
   "metadata": {},
   "source": [
    "Pero la posición de la otra partícula"
   ]
  },
  {
   "cell_type": "code",
   "execution_count": 53,
   "id": "ac9c4dac",
   "metadata": {},
   "outputs": [
    {
     "data": {
      "image/png": "[encoded data removed]",
      "text/latex": [
       "$\\displaystyle (\\ell \\sin{\\left(\\phi \\right)} + x)\\mathbf{\\hat{e}_x} -  \\ell \\cos{\\left(\\phi \\right)}\\mathbf{\\hat{e}_y}$"
      ],
      "text/plain": [
       "(\\ell⋅sin(φ) + x) e_x + -\\ell⋅cos(φ) e_y"
      ]
     },
     "execution_count": 53,
     "metadata": {},
     "output_type": "execute_result"
    }
   ],
   "source": [
    "partícula2_r"
   ]
  },
  {
   "cell_type": "markdown",
   "id": "b676d84e",
   "metadata": {},
   "source": [
    "tiene una expresión más compleja por lo que derivarle implica aplica recordar derivadas de funciones trigonométricas y el aplicar la regla de la cadena.\n",
    "$$\n",
    "\\dot{\\vec{r}}_2 = \\left( \\ell \\cos{(\\phi)} \\dot{\\phi} + \\dot{x} \\right) \\hat{x} + \\ell \\sin{(\\phi)} \\dot{\\phi}  \\hat{y} ,\n",
    "$$\n",
    "\n",
    "Sympy aplica correctamente la regla de la cadena en las funciones trigonométricas."
   ]
  },
  {
   "cell_type": "code",
   "execution_count": 54,
   "id": "e8297630",
   "metadata": {},
   "outputs": [
    {
     "data": {
      "image/png": "[encoded data removed]",
      "text/latex": [
       "$\\displaystyle (\\ell \\cos{\\left(\\phi \\right)} \\dot{\\phi} + \\dot{x})\\mathbf{\\hat{e}_x} + \\ell \\sin{\\left(\\phi \\right)} \\dot{\\phi}\\mathbf{\\hat{e}_y}$"
      ],
      "text/plain": [
       "(\\ell⋅cos(φ)⋅φ̇ + ẋ) e_x + \\ell⋅sin(φ)⋅φ̇ e_y"
      ]
     },
     "execution_count": 54,
     "metadata": {},
     "output_type": "execute_result"
    }
   ],
   "source": [
    "partícula2_v = partícula2_r.dt(e)\n",
    "partícula2_v"
   ]
  },
  {
   "cell_type": "markdown",
   "id": "5870f1ba-7246-4353-ad30-f1312883add1",
   "metadata": {
    "id": "ntOvPBvuU-zQ"
   },
   "source": [
    "### Energía cinética de traslación\n",
    "La energía cinética de una partícula de masa $m$ es \n",
    "$$\n",
    "T= \\frac{m}{2} \\left(\\dot{\\vec{r}}\\right)^2 = \\frac{m}{2} \\left(\\dot{\\vec{r}} \\cdot \\dot{\\vec{r}}\\right) = \\frac{m}{2} \\left(\\dot{r_i}^2+ \\dot{r_j}^2+ \\dot{r_k}^2 \\right) .\n",
    "$$\n",
    "\n",
    "En este ejercicio en que se hizo uso de las cartesianas esto es $T= \\frac{m}{2} \\left(\\dot{x}^2+ \\dot{y}^2+ \\dot{z}^2 \\right)$.\n",
    "\n",
    "Lo que hay que obtener es la $T$ del sistema.\n",
    "En este, en que hay dos partículas, deben adicionarse las de ambas,\n",
    "$$\n",
    "T = \\sum_{i=1}^{P=2} \\frac{m_i}{2} \\left( \\dot{\\vec{r}}_i \\right)^2 = \\frac{m_1}{2} \\left( \\dot{\\vec{r}}_1 \\right)^2 + \\frac{m_2}{2} \\left( \\dot{\\vec{r}}_2 \\right)^2 .\n",
    "$$"
   ]
  },
  {
   "cell_type": "markdown",
   "id": "48530f4d-4a0f-4817-a196-7a5a2b00f1a2",
   "metadata": {
    "id": "UUgiPSECU-zS"
   },
   "source": [
    "Por tanto, hay que obtener de las velocidades $\\vec{r}_i$ su valor al cuadrado.\n",
    "Para la primera partícula\n",
    "$$\n",
    "\\left(\\dot{\\vec{r}}_1 \\right)^2 = \\dot{\\vec{r}}_1 \\cdot \\dot{\\vec{r}}_1 = \\dot{x}^2\n",
    "$$"
   ]
  },
  {
   "cell_type": "code",
   "execution_count": 55,
   "id": "8da0551f-645a-4b5f-ab67-d5908c80c717",
   "metadata": {
    "colab": {
     "base_uri": "https://localhost:8080/",
     "height": 37
    },
    "id": "KknNKGewU-zT",
    "outputId": "9e1d5ff2-1299-4b81-99db-3ebc55c5ae11"
   },
   "outputs": [
    {
     "data": {
      "image/png": "[encoded data removed]",
      "text/latex": [
       "$\\displaystyle \\dot{x}^{2}$"
      ],
      "text/plain": [
       " 2\n",
       "ẋ "
      ]
     },
     "execution_count": 55,
     "metadata": {},
     "output_type": "execute_result"
    }
   ],
   "source": [
    "# velocidades al cuadrado es decir producto punto con si mismo\n",
    "partícula1_v_cuadrado = partícula1_v.dot(partícula1_v)\n",
    "partícula1_v_cuadrado"
   ]
  },
  {
   "cell_type": "markdown",
   "id": "9fa393c3",
   "metadata": {},
   "source": [
    "Pero para la segunda es un poco más laborioso\n",
    "$$\n",
    "\\begin{aligned}\n",
    "\\left(\\dot{\\vec{r}}_2 \\right)^2= \\dot{\\vec{r}}_2 \\cdot \\dot{\\vec{r}}_2 \n",
    "&= \\left( \\dot{x} + \\ell \\cos{\\phi} \\dot{\\phi} \\right)^2 + \\left( \\ell \\sin{\\phi} \\dot{\\phi} \\right)^2 \\\\\n",
    "&= \\left( \\dot{x}^2 + 2 \\dot{x} \\ell \\cos{\\phi} \\dot{\\phi} + \\ell^2 \\cos^2{\\phi} \\dot{\\phi}^2 \\right) + \\left( \\ell^2 \\sin^2{\\phi} \\dot{\\phi}^2 \\right) \\\\\n",
    "&= \\dot{x}^2 + 2 \\dot{x} \\ell \\cos{\\phi} \\dot{\\phi} + \\ell^2 \\dot{\\phi}^2 . \n",
    "\\end{aligned}\n",
    "$$"
   ]
  },
  {
   "cell_type": "code",
   "execution_count": 56,
   "id": "5226cacf",
   "metadata": {},
   "outputs": [
    {
     "data": {
      "image/png": "[encoded data removed]",
      "text/latex": [
       "$\\displaystyle \\ell^{2} \\sin^{2}{\\left(\\phi \\right)} \\dot{\\phi}^{2} + \\left(\\ell \\cos{\\left(\\phi \\right)} \\dot{\\phi} + \\dot{x}\\right)^{2}$"
      ],
      "text/plain": [
       "    2    2     2                      2\n",
       "\\ell ⋅sin (φ)⋅φ̇  + (\\ell⋅cos(φ)⋅φ̇ + ẋ) "
      ]
     },
     "execution_count": 56,
     "metadata": {},
     "output_type": "execute_result"
    }
   ],
   "source": [
    "partícula2_v_cuadrado = partícula2_v.dot(partícula2_v)\n",
    "partícula2_v_cuadrado"
   ]
  },
  {
   "cell_type": "markdown",
   "id": "d8fd6904",
   "metadata": {},
   "source": [
    "Esta última expresión puede hacerse más clara expandiendo el cuadrado de lo que está en paréntesis y aprovechando la identidad de la suma del cuadrado de senos y cosenos. "
   ]
  },
  {
   "cell_type": "code",
   "execution_count": 57,
   "id": "21699ad4-f777-40ed-9b3b-2e1f83613cba",
   "metadata": {
    "colab": {
     "base_uri": "https://localhost:8080/",
     "height": 39
    },
    "id": "oQkT5b4GU-zU",
    "outputId": "08d91b74-e90c-4dd0-ce8a-396040092f84"
   },
   "outputs": [
    {
     "data": {
      "image/png": "[encoded data removed]",
      "text/latex": [
       "$\\displaystyle \\ell^{2} \\dot{\\phi}^{2} + 2 \\ell \\cos{\\left(\\phi \\right)} \\dot{\\phi} \\dot{x} + \\dot{x}^{2}$"
      ],
      "text/plain": [
       "    2  2                        2\n",
       "\\ell ⋅φ̇  + 2⋅\\ell⋅cos(φ)⋅φ̇⋅ẋ + ẋ "
      ]
     },
     "execution_count": 57,
     "metadata": {},
     "output_type": "execute_result"
    }
   ],
   "source": [
    "partícula2_v_cuadrado.simplify()"
   ]
  },
  {
   "cell_type": "markdown",
   "id": "0ca8e9e4-166e-42ca-be9e-443951973b8a",
   "metadata": {
    "id": "UFGtSrp2U-zU"
   },
   "source": [
    "Con esto la energía cinética queda\n",
    "$$\n",
    "\\begin{aligned}\n",
    "T(\\dot{x}_1, \\phi, \\dot{\\phi}) &= \\frac{m_1}{2} \\left( \\dot{\\vec{r}}_1 \\right)^2 + \\frac{m_2}{2} \\left( \\dot{\\vec{r}}_2 \\right)^2 \\\\\n",
    "& = \\frac{m_1}{2} \\dot{x}^2 + \\frac{m_2}{2} \\left( \\dot{x}^2 + 2 \\dot{x} \\ell \\cos{\\phi} \\dot{\\phi} + l^2 \\dot{\\phi}^2 \\right) \\\\\n",
    "\\end{aligned}\n",
    "$$"
   ]
  },
  {
   "cell_type": "code",
   "execution_count": 58,
   "id": "cad9f7da",
   "metadata": {},
   "outputs": [],
   "source": [
    "# Energía cinética partícula 1\n",
    "partícula1_T = sm.Eq(\n",
    "  sm.Symbol('T_traslación'),\n",
    "  unMedio * m1 * partícula1_v.dot(partícula1_v) # un medio de la masa por la velocidad al cuadrado\n",
    "  ) # Eq define una ecuación"
   ]
  },
  {
   "cell_type": "code",
   "execution_count": 59,
   "id": "5fac34ba",
   "metadata": {},
   "outputs": [],
   "source": [
    "# Energía cinética partícula 2\n",
    "partícula2_T = sm.Eq(\n",
    "  sm.Symbol('T_traslación'),\n",
    "  unMedio * m2 * partícula2_v.dot(partícula2_v)\n",
    "  )"
   ]
  },
  {
   "cell_type": "code",
   "execution_count": 60,
   "id": "5ebca165",
   "metadata": {},
   "outputs": [
    {
     "data": {
      "image/png": "[encoded data removed]",
      "text/latex": [
       "$\\displaystyle T_{traslación} = \\frac{m_{1} \\dot{x}^{2}}{2} + \\frac{m_{2} \\left(\\ell^{2} \\dot{\\phi}^{2} + 2 \\ell \\cos{\\left(\\phi \\right)} \\dot{\\phi} \\dot{x} + \\dot{x}^{2}\\right)}{2}$"
      ],
      "text/plain": [
       "                   2      ⎛    2  2                        2⎞\n",
       "               m₁⋅ẋ    m₂⋅⎝\\ell ⋅φ̇  + 2⋅\\ell⋅cos(φ)⋅φ̇⋅ẋ + ẋ ⎠\n",
       "T_traslación = ───── + ──────────────────────────────────────\n",
       "                 2                       2                   "
      ]
     },
     "execution_count": 60,
     "metadata": {},
     "output_type": "execute_result"
    }
   ],
   "source": [
    "# Energía cinética total\n",
    "T = sm.Eq(\n",
    "  partícula1_T.lhs,\n",
    "  partícula1_T.rhs + partícula2_T.rhs\n",
    "  ).simplify()\n",
    "T"
   ]
  },
  {
   "cell_type": "markdown",
   "id": "7914a922-171d-4030-8e3f-380e56c88450",
   "metadata": {},
   "source": [
    "Como puede verse el mayor esfuerzo que insume la resolución del problema es describir la posición de las partículas en función de la geometría del sistema."
   ]
  },
  {
   "cell_type": "markdown",
   "id": "834e8774-74b9-418d-a6ee-0ec457582e35",
   "metadata": {},
   "source": [
    "### La ley del menor esfuerzo: programar para trabajar menos"
   ]
  },
  {
   "cell_type": "markdown",
   "id": "b458f91f-9305-4655-9fd5-c6ad56a4fb3b",
   "metadata": {},
   "source": [
    "Hay **dos partículas** en el sistema.\n",
    "Se escribió **dos veces** los mismos comandos para calcular sus velocidades, sus cuadros y con estos sus energías cinéticas.\n",
    "Una repetición innecesaria, puesto que se tiene a disposición un lenguaje de programación general como Python.\n",
    "\n",
    "Basta **definir una función** que calcule la energía cinética indicando en ella:\n",
    "- entradas: masa $m$ y posición de la partícula $\\vec{r}$ en un determinado marco de referencia \n",
    "- procesos intermedios que deba hacer a partir de las entradas para calcular la energía cinética como $\\frac{m}{2} \\dot{r}^2$\n",
    "- salida: lo que **retornará**, que se escribe tras la sentencia \n",
    "```Python\n",
    "return\n",
    "```\n",
    "\n",
    "La celda inferior contiene el código que define la función `energíaCinéticaTraslación`.\n",
    "Entre triples comillas dobles se puede incluir un comentario para explicar que hace la función definida."
   ]
  },
  {
   "cell_type": "code",
   "execution_count": 61,
   "id": "177a7431",
   "metadata": {},
   "outputs": [],
   "source": [
    "def energíaCinéticaTraslación(masa, posición, marcoDeReferencia):\n",
    "    r\"\"\"\n",
    "    A partir de la masa y posición de una partícula puntual en un marco de referencia devuelve su energía cinética.\n",
    "    \n",
    "    Parámetros\n",
    "    ----------\n",
    "    masa: (sympy.core.symbol.Symbol)\n",
    "        De un partícula\n",
    "    posición: (sympy.physics.vector.vector.Vector)\n",
    "        del centro de masa de la partícula\n",
    "    marcoDeReferencia: (sympy.physics.vector.frame.ReferenceFrame)\n",
    "        En el que se expresa la posición\n",
    "    \n",
    "    Retorna\n",
    "    -------\n",
    "    Igualdad Sympy (sympy.core.relational.Equality)\n",
    "        En su lado derecho explicita la energía cinética del sistema en función de coordenadas y velocidades generalizadas y el tiempo.\n",
    "        Energía cinética, T = (m/2) \\dot{\\vec{r}} \\cdot \\dot{\\vec{r}}\n",
    "    \"\"\"\n",
    "    velocidad = posición.dt(marcoDeReferencia)\n",
    "    unMedio = sm.Rational(1,2) # Rational: fracción de enteros, alternativamente podría haberse usado 0.5 \n",
    "    T_traslación = sm.Eq(\n",
    "        sm.Symbol('T_{traslación}'),\n",
    "        unMedio * masa * velocidad.dot(velocidad)\n",
    "        ).simplify()\n",
    "    return T_traslación"
   ]
  },
  {
   "cell_type": "markdown",
   "id": "79202b0d-434f-4003-8a53-7048ff5a2e43",
   "metadata": {},
   "source": [
    "Así para la partícula de masa `m1` cuya posición es `m1_r` en el marco de referencia `e` se obtiene que "
   ]
  },
  {
   "cell_type": "code",
   "execution_count": 62,
   "id": "f1bd5bda-ea78-415d-9a08-e5fb86db71a3",
   "metadata": {},
   "outputs": [
    {
     "data": {
      "image/png": "[encoded data removed]",
      "text/latex": [
       "$\\displaystyle T_{traslación} = \\frac{m_{1} \\dot{x}^{2}}{2}$"
      ],
      "text/plain": [
       "                     2\n",
       "                 m₁⋅ẋ \n",
       "T_{traslación} = ─────\n",
       "                   2  "
      ]
     },
     "execution_count": 62,
     "metadata": {},
     "output_type": "execute_result"
    }
   ],
   "source": [
    "partícula1_T = energíaCinéticaTraslación(m1, partícula1_r, e)\n",
    "partícula1_T"
   ]
  },
  {
   "cell_type": "markdown",
   "id": "20d43eeb-45e1-4d73-8ae3-9a2e9d187c84",
   "metadata": {},
   "source": [
    "Lo mismo para la partícula de masa `m2`."
   ]
  },
  {
   "cell_type": "code",
   "execution_count": 63,
   "id": "282d60d5-2f2d-40e1-98e7-dbdf0f473d81",
   "metadata": {},
   "outputs": [],
   "source": [
    "partícula2_T = energíaCinéticaTraslación(m2, partícula2_r, e)"
   ]
  },
  {
   "cell_type": "markdown",
   "id": "cd3a8229",
   "metadata": {},
   "source": [
    "Luego basta sumar estos resultados parciales."
   ]
  },
  {
   "cell_type": "code",
   "execution_count": 64,
   "id": "95f3d561",
   "metadata": {},
   "outputs": [
    {
     "data": {
      "image/png": "[encoded data removed]",
      "text/latex": [
       "$\\displaystyle T_{traslación} = \\frac{m_{1} \\dot{x}^{2}}{2} + \\frac{m_{2} \\left(\\ell^{2} \\dot{\\phi}^{2} + 2 \\ell \\cos{\\left(\\phi \\right)} \\dot{\\phi} \\dot{x} + \\dot{x}^{2}\\right)}{2}$"
      ],
      "text/plain": [
       "                     2      ⎛    2  2                        2⎞\n",
       "                 m₁⋅ẋ    m₂⋅⎝\\ell ⋅φ̇  + 2⋅\\ell⋅cos(φ)⋅φ̇⋅ẋ + ẋ ⎠\n",
       "T_{traslación} = ───── + ──────────────────────────────────────\n",
       "                   2                       2                   "
      ]
     },
     "execution_count": 64,
     "metadata": {},
     "output_type": "execute_result"
    }
   ],
   "source": [
    "# Energía cinética del sistema\n",
    "T = sm.Eq(\n",
    "  partícula1_T.lhs,\n",
    "  partícula1_T.rhs + partícula2_T.rhs\n",
    "  ).simplify()\n",
    "T"
   ]
  }
 ],
 "metadata": {
  "kernelspec": {
   "display_name": "jupyter",
   "language": "python",
   "name": "python3"
  },
  "language_info": {
   "codemirror_mode": {
    "name": "ipython",
    "version": 3
   },
   "file_extension": ".py",
   "mimetype": "text/x-python",
   "name": "python",
   "nbconvert_exporter": "python",
   "pygments_lexer": "ipython3",
   "version": "3.11.2"
  }
 },
 "nbformat": 4,
 "nbformat_minor": 5
}
