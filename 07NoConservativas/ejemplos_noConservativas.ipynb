{
 "cells": [
  {
   "cell_type": "markdown",
   "metadata": {
    "slideshow": {
     "slide_type": "slide"
    }
   },
   "source": [
    "# Euler-Lagrange: fuerzas externas | Ejemplos"
   ]
  },
  {
   "cell_type": "markdown",
   "metadata": {},
   "source": [
    "[![DIIT - UNLaM](data:image/png;base64,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)](https://ingenieria.unlam.edu.ar/)    \n",
    "[![by-nc-sa_80x15.png](data:image/png;base64,iVBORw0KGgoAAAANSUhEUgAAAFAAAAAPCAMAAABEF7i9AAAABGdBTUEAANbY1E9YMgAAAJZQTFRF////7u7u3d3dys7KzMzMyMzIxsrGxcbFur+6u7u7s7iyq7GqqqqqmZmZlJmTj5CPiIiIh4eHhoaGgICAfYJ9d3d3cnZxZ2tnZmZmW15bVVVVS0xLREREQ0NDQkJCQUJBOz07OTs5MzMzMTMxLjAuJygnJCUjIiIiISEhICAgGRkZERERDxAPDg4ODQ4NDQ0NDQ0MAAAADbeuvgAAAOhJREFUeNqtk+tyAiEMhQ+6XtroutZiveBdu+p2tXn/l3OQy8roL5fMMENC+HIIAI5sYEQ1DSRtP5zZkCpToubf2/oMMC0zX0QdiLqjmsD1sVKd8JSoNa8HvGRIclZCcZ5A7Yiag/s6oJPMYD8FKgIC3wG/+QP5DFIWot+DvBB1OxYAk+W2W88HqqwAOOZE6FuZbfWZZUn02fb1rTAHc3izZgQCrxWqSSFkH/IaKuSHEzEChfyk2PbwmqFX8EQo3jaw2Ac9DIFhD12Tn4CbU+RbTv+HHrj8jfAOacxflrc61/0psf9yZLsBr5WUrhUa3hEAAAAASUVORK5CYII=)](https://creativecommons.org/licenses/by-sa/4.0/deed.es_ES) \n",
    "2024 [Víctor A. Bettachini](mailto:vbettachini@unlam.edu.ar)  \n",
    "\n",
    "---"
   ]
  },
  {
   "cell_type": "markdown",
   "metadata": {
    "slideshow": {
     "slide_type": "slide"
    }
   },
   "source": [
    "## Ejemplo: péndulo con fuerza elástica\n",
    "La cuerda de un péndulo tiene cierta elastícidad, lo cual puede contemplarse al realizar un modelo para obtener su dinámica.\n",
    "\n",
    "En la figura de abajo la pesa de masa $m$ cuyo centro se denomina $C$ no solo está a merced de la fuerza peso $\\vec{P} = m \\vec{g}$ y la elástica del resorte sino que además actúa una \n",
    "$$\n",
    "\\vec{F}= F(t) \\hat{I}.\n",
    "$$\n",
    "\n",
    "![](figuras/penduloElastico.png \"Péndulo con cuerda elástica\")"
   ]
  },
  {
   "cell_type": "markdown",
   "metadata": {
    "slideshow": {
     "slide_type": "slide"
    }
   },
   "source": [
    "### Cálculo del trabajo virtual\n",
    "- Desplazamiento virtual en función de coordenadas generalizadas\n",
    "\n",
    "$$\n",
    "\\delta \\vec{r}_c\n",
    "= \\delta x \\hat{\\rho} + (l_0 + x) \\delta \\theta \\hat{\\theta}\n",
    "= \\delta x \\left( \\sin(\\theta) \\hat{I} - \\cos(\\theta) \\hat{J} \\right) + (l_0 + x) \\delta \\theta \\left( \\cos(\\theta) \\hat{I} + \\sin(\\theta) \\hat{J} \\right).\n",
    "$$\n",
    "- Trabajo virtual a causa de la $\\vec{F}$ aplicada en $C$\n",
    "\n",
    "$$\n",
    "\\begin{aligned}\n",
    "\\delta W\n",
    "&= \\sum_i Q_i \\delta q_i = \\vec{F} \\cdot \\delta \\vec{r}_C = F(t) \\hat{I} \\cdot \\delta \\vec{r}_c\\\\\n",
    "&= F(t) \\sin(\\theta) \\delta x + F(t) (l_0 + x) \\cos(\\theta) \\delta \\theta \\\\\n",
    "&= Q_x \\delta x + Q_\\theta \\delta \\theta \\\\\n",
    "&\\implies Q_x = F(t) \\sin(\\theta) \\quad Q_\\theta = F(t) (l_0 + x) \\cos(\\theta)\n",
    "\\end{aligned}\n",
    "$$"
   ]
  },
  {
   "cell_type": "markdown",
   "metadata": {
    "slideshow": {
     "slide_type": "slide"
    }
   },
   "source": [
    "### Cálculo directo de fuerzas generalizadas\n",
    "- Se escribe $\\vec{r}$ en el sistema geométrico de coordenadas \n",
    "\n",
    "$$\n",
    "\\vec{r}_C = (l_0 + x) \\hat{\\rho} = (l_0 + x) \\left( \\sin(\\theta) \\hat{I} - \\cos(\\theta) \\hat{J} \\right)\n",
    "$$\n",
    "\n",
    "- Se calcula para cada $\\delta q_i$\n",
    "\n",
    "$$\n",
    "Q_i \\delta q_i = \\sum_j \\vec{F} \\cdot \\left( \\frac{\\partial \\vec{r}_j}{\\partial q_i} \\right) \\delta q_i\n",
    "$$"
   ]
  },
  {
   "cell_type": "markdown",
   "metadata": {
    "slideshow": {
     "slide_type": "slide"
    }
   },
   "source": [
    "$\\exists! \\vec{F} \\implies\n",
    "\\left\\{\n",
    "  \\begin{array}{l}\n",
    "    Q_x \\delta x = \\vec{F} \\cdot \\frac{\\partial \\vec{r}_C}{\\partial x} \\delta x\\\\\n",
    "    Q_\\theta \\delta \\theta = \\vec{F} \\cdot \\frac{\\partial \\vec{r}_C}{\\partial \\theta} \\delta \\theta\n",
    "  \\end{array}\\right.\n",
    "$\n",
    "por tanto a las coordenadas generalizadas $x$ y $\\theta$ corresponden sendas fuerzas generalizadas\n",
    "\n",
    "$$\n",
    "\\begin{aligned}\n",
    "Q_x \n",
    "= \\vec{F} \\cdot \\frac{\\partial \\vec{r}_C}{\\partial x} \n",
    "&= F(t) \\hat{I} \\cdot \\left( \\sin(\\theta) \\hat{I} - \\cos(\\theta) \\hat{J} \\right)\n",
    "= F(t) \\sin(\\theta)\\\\\n",
    "Q_\\theta \n",
    "= \\vec{F} \\cdot \\frac{\\partial \\vec{r}_C}{\\partial \\theta} \n",
    "&= F(t) \\hat{I} \\cdot \\left[ (l_0 + x) \\left( \\cos(\\theta) \\hat{I} + \\sin(\\theta) \\hat{J} \\right) \\right]\n",
    "= F(t) (l_0 + x) \\cos(\\theta)\n",
    "\\end{aligned}\n",
    "$$"
   ]
  },
  {
   "cell_type": "markdown",
   "metadata": {
    "slideshow": {
     "slide_type": "slide"
    }
   },
   "source": [
    "## Otro ejemplo: barra que pende de un carro\n",
    "- Barra $m_2$, $l$ (centro de masa en G) pende de (A) sujeta a $\\vec{g}$.\n",
    "- Carro $m_1$ unido a pared por un resorte de constante elástica $k$.\n",
    "\n",
    "![](figuras/erste.png \"Barra rígida como péndulo pendiente de un carro oscilante\")"
   ]
  },
  {
   "cell_type": "code",
   "execution_count": 1,
   "metadata": {},
   "outputs": [],
   "source": [
    "import sympy as sm # importamos funciones de cálculo simbólico\n",
    "from sympy.physics import mechanics as me # de sympy utilizaremos funciones de mecánica\n",
    "me.init_vprinting() # notación con punto para la velocidad y punto punto para la aceleración"
   ]
  },
  {
   "cell_type": "code",
   "execution_count": 2,
   "metadata": {},
   "outputs": [],
   "source": [
    "# Defino los parámetros físicos del sistema\n",
    "m1, m2, k, g, l = sm.symbols('m_1, m_2, k, g, l', positive=True)"
   ]
  },
  {
   "cell_type": "code",
   "execution_count": 3,
   "metadata": {},
   "outputs": [],
   "source": [
    "# posiciones de los centros de masa\n",
    "e = me.ReferenceFrame('e')\n",
    "x, zeta = me.dynamicsymbols('x, theta')\n",
    "m1_r = x* e.x\n",
    "m2_r = m1_r + (l/2)* (sm.sin(zeta)* e.x + sm.cos(zeta)* (-e.y) )"
   ]
  },
  {
   "cell_type": "markdown",
   "metadata": {},
   "source": [
    "#### Energía cinética"
   ]
  },
  {
   "cell_type": "markdown",
   "metadata": {},
   "source": [
    "La masa de la barra está distribuida, no corresponde calcular su energía cinética como la de una partícula, sino como la de un sólido rígido.\n",
    "Para calcular su correspondiente energía cinética de rotación\n",
    "$$\n",
    "T_\\mathrm{rotación} = \\frac{1}{2} I \\omega^2,\n",
    "$$\n",
    "necesitamos el [momento de inercia](https://es.wikipedia.org/wiki/Anexo:Momentos_de_inercia) $I$.\n",
    "Para una barra de longitud $l$ y masa $m$ girando en torno a un eje transversal al longitudinal que pasa por su centro de masa es\n",
    "$$\n",
    "I_\\mathrm{barra\\,cm} = \\frac{m l^2}{12}.\n",
    "$$\n",
    "En este problema tal eje está desplazado a un extremo de la barra, a $\\frac{l}{2}$ del centro de masa, por lo que debe adicionarse el término que indica el [teorema de Steiner](https://es.wikipedia.org/wiki/Teorema_del_eje_paralelo)\n",
    "$$\n",
    "I_\\mathrm{barra\\,extremo} = m \\left(\\frac{l}{2}\\right)^2 + \\frac{m l^2}{12} = m \\frac{l^2}{3}.\n",
    "$$\n"
   ]
  },
  {
   "cell_type": "code",
   "execution_count": 4,
   "metadata": {},
   "outputs": [
    {
     "data": {
      "image/png": "[encoded data removed]",
      "text/latex": [
       "$\\displaystyle I_{barra} = \\frac{l^{2} m_{2}}{3}$"
      ],
      "text/plain": [
       "             2   \n",
       "            l ⋅m₂\n",
       "I_{barra} = ─────\n",
       "              3  "
      ]
     },
     "execution_count": 4,
     "metadata": {},
     "output_type": "execute_result"
    }
   ],
   "source": [
    "barra_I_centro = m2* l**2/ 12  # momento de inercia barra en torno a centro https://es.wikipedia.org/wiki/Anexo:Momentos_de_inercia\n",
    "barra_I_extremo = barra_I_centro + m2* (l/2)**2 # a (l/2) del centro de masa, con teorema de Steiner\n",
    "\n",
    "barra_I =  sm.Eq(\n",
    "  sm.Symbol('I_{barra}'),\n",
    "  barra_I_extremo\n",
    ")\n",
    "barra_I"
   ]
  },
  {
   "cell_type": "code",
   "execution_count": 5,
   "metadata": {},
   "outputs": [
    {
     "data": {
      "image/png": "[encoded data removed]",
      "text/latex": [
       "$\\displaystyle T_{rotación} = \\frac{l^{2} m_{2} \\dot{\\theta}^{2}}{6}$"
      ],
      "text/plain": [
       "                2     2\n",
       "               l ⋅m₂⋅θ̇ \n",
       "T_{rotación} = ────────\n",
       "                  6    "
      ]
     },
     "execution_count": 5,
     "metadata": {},
     "output_type": "execute_result"
    }
   ],
   "source": [
    "unMedio = sm.Rational(1, 2)\n",
    "t = sm.symbols('t') # tiempo\n",
    "barra_T_rotación = sm.Eq(\n",
    "  sm.Symbol('T_{rotación}'),\n",
    "  unMedio* barra_I.rhs* zeta.diff(t)**2\n",
    ")\n",
    "barra_T_rotación"
   ]
  },
  {
   "cell_type": "markdown",
   "metadata": {},
   "source": [
    "Por el contrario para el carro no hay inconveniente en considerar la masa concentrada en el centro de masa, ya que no está sometido a rotación. Por lo tanto la energía cinética del carro la tratamos de la forma usual."
   ]
  },
  {
   "cell_type": "code",
   "execution_count": 6,
   "metadata": {},
   "outputs": [],
   "source": [
    "def energíaCinéticaTraslación(masa, posición, marcoDeReferencia):\n",
    "    \"\"\"\n",
    "    A partir de la masa y posición de una partícula puntual en un marco de referencia devuelve su energía cinética.\n",
    "    \n",
    "    Parámetros\n",
    "    ----------\n",
    "    masa: (sympy.core.symbol.Symbol)\n",
    "        De un partícula\n",
    "    posición: (sympy.physics.vector.vector.Vector)\n",
    "        del centro de masa de la partícula\n",
    "    marcoDeReferencia: (sympy.physics.vector.frame.ReferenceFrame)\n",
    "        En el que se expresa la posición\n",
    "    \n",
    "    Retorna\n",
    "    -------\n",
    "    Igualdad Sympy (sympy.core.relational.Equality)\n",
    "        En su lado derecho explicita la energía cinética del sistema en función de coordenadas y velocidades generalizadas y el tiempo.\n",
    "        Energía cinética, T = (m/2) \\dot{\\vec{r}} \\cdot\\dot{\\vec{r}}\n",
    "    \"\"\"\n",
    "    velocidad = posición.dt(marcoDeReferencia)\n",
    "    unMedio = sm.Rational(1,2) # Rational: fracción de enteros, alternativamente podría haberse usado 0.5 \n",
    "    T_traslación = sm.Eq(\n",
    "        sm.Symbol('T_{traslación}'),\n",
    "        unMedio* masa* velocidad.dot(velocidad)\n",
    "        ).simplify()\n",
    "    return T_traslación"
   ]
  },
  {
   "cell_type": "code",
   "execution_count": 7,
   "metadata": {},
   "outputs": [],
   "source": [
    "carro_T = energíaCinéticaTraslación(m1, m1_r, e)\n",
    "barra_T_traslación = energíaCinéticaTraslación(m2, m2_r, e)"
   ]
  },
  {
   "cell_type": "markdown",
   "metadata": {},
   "source": [
    "Y por tanto la energía cinética en este sistema es:"
   ]
  },
  {
   "cell_type": "code",
   "execution_count": 8,
   "metadata": {},
   "outputs": [
    {
     "data": {
      "image/png": "[encoded data removed]",
      "text/latex": [
       "$\\displaystyle T_{traslación} = \\frac{l^{2} m_{2} \\dot{\\theta}^{2}}{6} + \\frac{m_{1} \\dot{x}^{2}}{2} + \\frac{m_{2} \\left(l^{2} \\dot{\\theta}^{2} + 4 l \\cos{\\left(\\theta \\right)} \\dot{\\theta} \\dot{x} + 4 \\dot{x}^{2}\\right)}{8}$"
      ],
      "text/plain": [
       "                  2     2       2      ⎛ 2  2                       2⎞\n",
       "                 l ⋅m₂⋅θ̇    m₁⋅ẋ    m₂⋅⎝l ⋅θ̇  + 4⋅l⋅cos(θ)⋅θ̇⋅ẋ + 4⋅ẋ ⎠\n",
       "T_{traslación} = ──────── + ───── + ──────────────────────────────────\n",
       "                    6         2                     8                 "
      ]
     },
     "execution_count": 8,
     "metadata": {},
     "output_type": "execute_result"
    }
   ],
   "source": [
    "T = sm.Eq(\n",
    "  carro_T.lhs,\n",
    "  carro_T.rhs + barra_T_rotación.rhs + barra_T_traslación.rhs )\n",
    "T"
   ]
  },
  {
   "cell_type": "markdown",
   "metadata": {},
   "source": [
    "#### Energía potencial"
   ]
  },
  {
   "cell_type": "markdown",
   "metadata": {},
   "source": [
    "El resorte puede almacenar energía potencial elástica."
   ]
  },
  {
   "cell_type": "code",
   "execution_count": 9,
   "metadata": {},
   "outputs": [
    {
     "data": {
      "image/png": "[encoded data removed]",
      "text/latex": [
       "$\\displaystyle V_{elástica} = \\frac{k x^{2}}{2}$"
      ],
      "text/plain": [
       "                  2\n",
       "               k⋅x \n",
       "V_{elástica} = ────\n",
       "                2  "
      ]
     },
     "execution_count": 9,
     "metadata": {},
     "output_type": "execute_result"
    }
   ],
   "source": [
    "resorte_V = sm.Eq(\n",
    "  sm.Symbol('V_{elástica}'),\n",
    "  unMedio* k* x**2\n",
    ")\n",
    "resorte_V"
   ]
  },
  {
   "cell_type": "markdown",
   "metadata": {},
   "source": [
    "Y si bien la barra es un cuerpo extenso donde su punto de unión con el carro no varia altura en tanto que el extremo lo hace en una forma pronunciada, realizaremos una aproximación para simplificar el problema. A los efectos de la energía potencial gravitatoria se considerará que la barra concentra toda su masa en su centro de masa."
   ]
  },
  {
   "cell_type": "code",
   "execution_count": 10,
   "metadata": {},
   "outputs": [],
   "source": [
    "def energíaPotencialGravitatoria(masa, posición, aceleracionGravitatoria):\n",
    "    \"\"\"\n",
    "    Retorna la energía potencial gravitatoria de una partícula de masa m cuya posición r está dada en un sistema de referencia en el cual g es la aceleración gravitatoria terrestre.\n",
    "    \n",
    "    Parámetros\n",
    "    ----------\n",
    "    aceleracionGravitatoria: (sympy.physics.vector.vector.Vector)\n",
    "        vector orientado según el sistema de referencia\n",
    "    masa: (sympy.core.symbol.Symbol\n",
    "        del cuerpo en cuestión\n",
    "    posición: (sympy.core.symbol.Symbol)\n",
    "        del centro de masa en un sistema de referencia relacionable con el de aceleracionGravitatoria\n",
    "    \n",
    "    Retorna\n",
    "    -------\n",
    "    Igualdad Sympy (sympy.core.relational.Equality)\n",
    "        En su lado derecho explicita la energía potencial del sistema en función de coordenadas y velocidades generalizadas y el tiempo.\n",
    "    coordenadaGeneralizada: Símbolo Sympy (sympy.core.symbol.Symbol)\n",
    "        V = - (m \\vec{aceleracionGravitatoria}) \\cdot{posición}\n",
    "    \"\"\"\n",
    "    V_gravitatoria = sm.Eq(\n",
    "        sm.Symbol('V_{gravitatoria}'),\n",
    "        - (masa* aceleracionGravitatoria).dot(posición)\n",
    "        ).simplify()\n",
    "    return V_gravitatoria"
   ]
  },
  {
   "cell_type": "code",
   "execution_count": 11,
   "metadata": {},
   "outputs": [
    {
     "data": {
      "image/png": "[encoded data removed]",
      "text/latex": [
       "$\\displaystyle V_{gravitatoria} = - \\frac{g l m_{2} \\cos{\\left(\\theta \\right)}}{2}$"
      ],
      "text/plain": [
       "                   -g⋅l⋅m₂⋅cos(θ) \n",
       "V_{gravitatoria} = ───────────────\n",
       "                          2       "
      ]
     },
     "execution_count": 11,
     "metadata": {},
     "output_type": "execute_result"
    }
   ],
   "source": [
    "aceleracionGravitatoria = g* (- e.y)\n",
    "barra_V = energíaPotencialGravitatoria(m2, m2_r, aceleracionGravitatoria)\n",
    "barra_V"
   ]
  },
  {
   "cell_type": "markdown",
   "metadata": {},
   "source": [
    "Así la energía potencial en el sistema es: "
   ]
  },
  {
   "cell_type": "code",
   "execution_count": 12,
   "metadata": {},
   "outputs": [
    {
     "data": {
      "image/png": "[encoded data removed]",
      "text/latex": [
       "$\\displaystyle V_{elástica} = - \\frac{g l m_{2} \\cos{\\left(\\theta \\right)}}{2} + \\frac{k x^{2}}{2}$"
      ],
      "text/plain": [
       "                                    2\n",
       "                 g⋅l⋅m₂⋅cos(θ)   k⋅x \n",
       "V_{elástica} = - ───────────── + ────\n",
       "                       2          2  "
      ]
     },
     "execution_count": 12,
     "metadata": {},
     "output_type": "execute_result"
    }
   ],
   "source": [
    "# Energía potencial\n",
    "V = sm.Eq(\n",
    "  resorte_V.lhs,\n",
    "  resorte_V.rhs + barra_V.rhs\n",
    ")\n",
    "V "
   ]
  },
  {
   "cell_type": "markdown",
   "metadata": {
    "slideshow": {
     "slide_type": "slide"
    }
   },
   "source": [
    "### Dos coordenadas generalizadas, dos ecuaciones de Euler-Lagrange"
   ]
  },
  {
   "cell_type": "code",
   "execution_count": 13,
   "metadata": {},
   "outputs": [],
   "source": [
    "def eulerLagrange(T, V, coordenadaGeneralizada):\n",
    "    '''    \n",
    "    Esta función devuelve la ecuación de Euler-Lagrange para una coordenada generalizada a partir de las energías del sistema.\n",
    "    \n",
    "    Parámetros\n",
    "    ----------\n",
    "    T : Igualdad Sympy (sympy.core.relational.Equality)\n",
    "        En su lado derecho explicita la energía cinética del sistema en función de coordenadas y velocidades generalizadas y el tiempo.\n",
    "    V : Igualdad Sympy (sympy.core.relational.Equality)\n",
    "        En su lado derecho explicita la energía potencial del sistema en función de coordenadas y velocidades generalizadas y el tiempo.\n",
    "    coordenadaGeneralizada: Símbolo Sympy (sympy.core.symbol.Symbol)\n",
    "        Para la que quiere obtenerse la ecuación de Euler-Lagrange\n",
    "        \n",
    "    Retorna\n",
    "    -------\n",
    "    Igualdad Sympy (sympy.core.relational.Equality)\n",
    "        Ecuación de Euler-Lagrange homogénea para la coordenadaGeneralizada\n",
    "    '''\n",
    "    lagrangiano = (T.rhs - V.rhs).expand()\n",
    "    t = sm.Symbol('t') # como se deriva respecto al tiempo con la función diff se declara t como símbolo \n",
    "    return sm.Eq(\n",
    "        lagrangiano.diff(coordenadaGeneralizada) \n",
    "        - lagrangiano.diff(coordenadaGeneralizada.diff(t)).diff(t)\n",
    "        , 0\n",
    "    ).simplify()"
   ]
  },
  {
   "cell_type": "markdown",
   "metadata": {},
   "source": [
    "Llamaremos de ahora en más a estas ecuaciones de Euler-Lagrange las ecuaciones de **Euler-Lagrange homogéneas** para diferenciarlas de las ecuaciones de Euler-Lagrange que contemplen fuerzas no conservativas."
   ]
  },
  {
   "cell_type": "markdown",
   "metadata": {},
   "source": [
    "$$\n",
    "\\frac{\\partial \\mathcal{L} }{ \\partial x } - \\frac{ \\mathrm{d} }{ \\mathrm{d} t } \\frac{\\partial \\mathcal{L} }{ \\partial \\dot{x} } \n",
    "= 0\n",
    "$$"
   ]
  },
  {
   "cell_type": "code",
   "execution_count": 14,
   "metadata": {},
   "outputs": [
    {
     "data": {
      "image/png": "[encoded data removed]",
      "text/latex": [
       "$\\displaystyle k x - \\frac{l m_{2} \\sin{\\left(\\theta \\right)} \\dot{\\theta}^{2}}{2} + \\frac{l m_{2} \\cos{\\left(\\theta \\right)} \\ddot{\\theta}}{2} + m_{1} \\ddot{x} + m_{2} \\ddot{x} = 0$"
      ],
      "text/plain": [
       "                   2                                  \n",
       "      l⋅m₂⋅sin(θ)⋅θ̇    l⋅m₂⋅cos(θ)⋅θ̈                  \n",
       "k⋅x - ────────────── + ───────────── + m₁⋅ẍ + m₂⋅ẍ = 0\n",
       "            2                2                        "
      ]
     },
     "execution_count": 14,
     "metadata": {},
     "output_type": "execute_result"
    }
   ],
   "source": [
    "x_EL_homogénea = eulerLagrange(T, V, x)\n",
    "x_EL_homogénea"
   ]
  },
  {
   "cell_type": "markdown",
   "metadata": {
    "slideshow": {
     "slide_type": "slide"
    }
   },
   "source": [
    "$$\n",
    "\\frac{\\partial \\mathcal{L} }{ \\partial \\theta } - \\frac{ \\mathrm{d} }{ \\mathrm{d} t } \\frac{\\partial \\mathcal{L} }{ \\partial \\dot{\\theta} } \n",
    "= 0\n",
    "$$"
   ]
  },
  {
   "cell_type": "code",
   "execution_count": 15,
   "metadata": {},
   "outputs": [
    {
     "data": {
      "image/png": "[encoded data removed]",
      "text/latex": [
       "$\\displaystyle \\frac{l m_{2} \\left(6 g \\sin{\\left(\\theta \\right)} + 7 l \\ddot{\\theta} + 6 \\cos{\\left(\\theta \\right)} \\ddot{x}\\right)}{12} = 0$"
      ],
      "text/plain": [
       "l⋅m₂⋅(6⋅g⋅sin(θ) + 7⋅l⋅θ̈ + 6⋅cos(θ)⋅ẍ)    \n",
       "────────────────────────────────────── = 0\n",
       "                  12                      "
      ]
     },
     "execution_count": 15,
     "metadata": {},
     "output_type": "execute_result"
    }
   ],
   "source": [
    "zeta_EL_homogénea = eulerLagrange(T, V, zeta)\n",
    "zeta_EL_homogénea"
   ]
  },
  {
   "cell_type": "markdown",
   "metadata": {
    "slideshow": {
     "slide_type": "slide"
    }
   },
   "source": [
    "### Ahora agregamos unas fuerzas no conservativas\n",
    "Al sistema anterior se aplican dos fuerzas no conservativas:\n",
    "- una motríz externa $\\vec{F}_\\text{motríz}= F(t) \\hat{x}$\n",
    "- una de amortiguación proporcional a la velocidad $\\vec{F}_\\text{amortiguación}= - b \\dot{x} \\hat{x}$\n",
    "\n",
    "![](figuras/zweite.png \"Lo mismo con una fuerza motríz y una de amortiguación.\")"
   ]
  },
  {
   "cell_type": "markdown",
   "metadata": {
    "slideshow": {
     "slide_type": "slide"
    }
   },
   "source": [
    "Se analizan la variación de trabajos virtuales\n",
    "\n",
    "$$\n",
    "\\begin{aligned}\n",
    "\\delta W^\\text{nc} \n",
    "& = \\sum_j \\vec{F}_j^\\text{nc} \\cdot \\delta \\vec{r}_j = \\sum_i Q_i \\delta q_i \\\\\n",
    "& = \\left[ - b \\dot{x} + F(t) \\right] \\delta x + \\left[ 0 \\right] \\delta \\theta \\\\\n",
    "& \\implies Q_x = - b \\dot{x} + F(t) \\quad Q_\\theta = 0\n",
    "\\end{aligned}\n",
    "$$\n",
    "\n",
    "La otra forma es analizando el desplazamiento de punto donde se aplica $\\vec{F}(t)$\n",
    "$$\n",
    "\\vec{r}_A = x \\hat{x}\n",
    "$$\n",
    "entonces\n",
    "$$\n",
    "\\frac{\\partial \\vec{r}_A}{\\partial x} = \\hat{x} \\qquad\n",
    "\\frac{\\partial \\vec{r}_A}{\\partial \\theta} = 0 ,\n",
    "$$\n",
    "y por tanto\n",
    "$$\n",
    "Q_x \n",
    "= \\left[ \\left(- b \\dot{x} + F(t) \\right) \\hat{x} \\right] \\cdot \\frac{\\partial \\vec{r}_A}{\\partial x} \n",
    "= \\left[ \\left(- b \\dot{x} + F(t) \\right) \\hat{x} \\right] \\cdot \\hat{x} \n",
    "= - b \\dot{x} + F(t)\\\\\n",
    "Q_\\theta \n",
    "= \\left[ \\left(- b \\dot{x} + F(t) \\right) \\hat{x} \\right] \\cdot \\frac{\\partial \\vec{r}_A}{\\partial \\theta} = 0\n",
    "$$\n",
    "esta última es $0$ porque $\\vec{r}_A$ no tiene dependencia con $\\theta$.\n",
    "\n",
    "Este último procedimiento parece el más automático."
   ]
  },
  {
   "cell_type": "code",
   "execution_count": 16,
   "metadata": {},
   "outputs": [
    {
     "data": {
      "image/png": "[encoded data removed]",
      "text/latex": [
       "$\\displaystyle \\left( - b \\dot{x} + F, \\  0\\right)$"
      ],
      "text/plain": [
       "(-b⋅ẋ + F, 0)"
      ]
     },
     "execution_count": 16,
     "metadata": {},
     "output_type": "execute_result"
    }
   ],
   "source": [
    "b = sm.Symbol('b', positive= True)\n",
    "F = sm.Function('F')(t)\n",
    "fuerzas_m1_r = (-b* x.diff(t)+ F)* e.x # sumataria de fuerzas sobre m1_r (vector)\n",
    "x_Q = fuerzas_m1_r.dot(m1_r.diff(x, e))\n",
    "zeta_Q = fuerzas_m1_r.dot(m1_r.diff(zeta, e))\n",
    "x_Q, zeta_Q "
   ]
  },
  {
   "cell_type": "markdown",
   "metadata": {},
   "source": [
    "Entonces las ecuaciones de Euler-Lagrange\n",
    "\n",
    "$$\n",
    "\\frac{\\partial}{\\partial q_i} \\mathcal{L}\n",
    "- \\frac{\\mathrm{d}}{\\mathrm{d}t} \\frac{\\partial}{\\partial \\dot{q}_i} \\mathcal{L}\n",
    "+ \\sum_k \\lambda_k \\frac{\\partial}{\\partial q_i} f_k\n",
    "+ \\sum_j \\vec{F}_j \\cdot \\left( \\frac{\\partial \\vec{r}_j}{\\partial q_i} \\right)\n",
    "= 0,\n",
    "$$\n",
    "\n",
    "que en este caso no tienen fuerzas de vínculo por lo que quedan\n",
    "\n",
    "$$\n",
    "\\frac{\\partial}{\\partial q_i} \\mathcal{L}\n",
    "- \\frac{\\mathrm{d}}{\\mathrm{d}t} \\frac{\\partial}{\\partial \\dot{q}_i} \\mathcal{L}\n",
    "+ \\sum_j \\vec{F}_j \\cdot \\left( \\frac{\\partial \\vec{r}_j}{\\partial q_i} \\right)\n",
    "= 0,\n",
    "$$\n",
    "\n",
    "Para la coordenada generalizada $x$ queda\n",
    "$$\n",
    "\\frac{\\partial \\mathcal{L} }{ \\partial x } \n",
    "- \\frac{ \\mathrm{d} }{ \\mathrm{d} t } \\frac{\\partial \\mathcal{L} }{ \\partial \\dot{x} }\n",
    "+ Q_x\n",
    "= 0\n",
    "$$\n",
    "\n",
    "\n",
    "\n",
    "Para aprovechar el código que tenemos para obtener Euler-Lagrange homogénea ordenamos la ecuación anterior para mantener el orden de signos que venimos utilizando\n",
    "$$\n",
    "\\begin{aligned}\n",
    "\\frac{\\partial \\mathcal{L} }{ \\partial x } \n",
    "- \\frac{ \\mathrm{d} }{ \\mathrm{d} t } \\frac{\\partial \\mathcal{L} }{ \\partial \\dot{x} }\n",
    "&= - Q_x \\\\\n",
    "\\frac{\\partial \\mathcal{L} }{ \\partial x } \n",
    "- \\frac{ \\mathrm{d} }{ \\mathrm{d} t } \\frac{\\partial \\mathcal{L} }{ \\partial \\dot{x} }\n",
    "&= - (-b \\dot{x} + F(t) )\n",
    "\\end{aligned}\n",
    "$$\n",
    "\n"
   ]
  },
  {
   "cell_type": "code",
   "execution_count": 17,
   "metadata": {},
   "outputs": [
    {
     "data": {
      "image/png": "[encoded data removed]",
      "text/latex": [
       "$\\displaystyle k x - \\frac{l m_{2} \\sin{\\left(\\theta \\right)} \\dot{\\theta}^{2}}{2} + \\frac{l m_{2} \\cos{\\left(\\theta \\right)} \\ddot{\\theta}}{2} + m_{1} \\ddot{x} + m_{2} \\ddot{x} = b \\dot{x} - F$"
      ],
      "text/plain": [
       "                   2                                        \n",
       "      l⋅m₂⋅sin(θ)⋅θ̇    l⋅m₂⋅cos(θ)⋅θ̈                        \n",
       "k⋅x - ────────────── + ───────────── + m₁⋅ẍ + m₂⋅ẍ = b⋅ẋ - F\n",
       "            2                2                              "
      ]
     },
     "execution_count": 17,
     "metadata": {},
     "output_type": "execute_result"
    }
   ],
   "source": [
    "x_EL = sm.Eq(\n",
    "  x_EL_homogénea.lhs,\n",
    "  - x_Q\n",
    ")\n",
    "x_EL"
   ]
  },
  {
   "cell_type": "markdown",
   "metadata": {},
   "source": [
    "En tanto que en la ecuación de Euler-Lagrange para la coordenada $\\theta$ no hay modificaciones "
   ]
  },
  {
   "cell_type": "code",
   "execution_count": 18,
   "metadata": {},
   "outputs": [
    {
     "data": {
      "image/png": "[encoded data removed]",
      "text/latex": [
       "$\\displaystyle \\frac{l m_{2} \\left(6 g \\sin{\\left(\\theta \\right)} + 7 l \\ddot{\\theta} + 6 \\cos{\\left(\\theta \\right)} \\ddot{x}\\right)}{12} = 0$"
      ],
      "text/plain": [
       "l⋅m₂⋅(6⋅g⋅sin(θ) + 7⋅l⋅θ̈ + 6⋅cos(θ)⋅ẍ)    \n",
       "────────────────────────────────────── = 0\n",
       "                  12                      "
      ]
     },
     "execution_count": 18,
     "metadata": {},
     "output_type": "execute_result"
    }
   ],
   "source": [
    "zeta_EL = sm.Eq(\n",
    "  zeta_EL_homogénea.lhs,\n",
    "  - zeta_Q\n",
    ")\n",
    "zeta_EL"
   ]
  },
  {
   "cell_type": "markdown",
   "metadata": {},
   "source": [
    "De todas formas es claro que para obtener la dinámica hay que resolver este sistema acoplado de estas dos ecuaciones diferenciales.\n",
    "\n",
    "En particular hay que tener en cuenta que $F = F(t)$ por lo que habrá que desarrollar ésta en una expresión compatible con las herramientas de resolución que se utilicen. Hacia el final del curso veremos la aplicación del desarrollo de Fourier para este tipo de problemas."
   ]
  }
 ],
 "metadata": {
  "celltoolbar": "Slideshow",
  "kernelspec": {
   "display_name": "Python 3 (ipykernel)",
   "language": "python",
   "name": "python3"
  },
  "language_info": {
   "codemirror_mode": {
    "name": "ipython",
    "version": 3
   },
   "file_extension": ".py",
   "mimetype": "text/x-python",
   "name": "python",
   "nbconvert_exporter": "python",
   "pygments_lexer": "ipython3",
   "version": "3.11.2"
  }
 },
 "nbformat": 4,
 "nbformat_minor": 4
}
