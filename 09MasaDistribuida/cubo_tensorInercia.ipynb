{
  "cells": [
    {
      "cell_type": "markdown",
      "metadata": {
        "id": "L0bPjDfByBoa"
      },
      "source": [
        "# Tensor de inercia | Cubo"
      ]
    },
    {
      "cell_type": "markdown",
      "metadata": {
        "id": "ITB_MtBvyBoc"
      },
      "source": [
        "[![DIIT - UNLaM](data:image/png;base64,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)](https://ingenieria.unlam.edu.ar/)    \n",
        "[![by-nc-sa_80x15.png](data:image/png;base64,iVBORw0KGgoAAAANSUhEUgAAAFAAAAAPCAMAAABEF7i9AAAABGdBTUEAANbY1E9YMgAAAJZQTFRF////7u7u3d3dys7KzMzMyMzIxsrGxcbFur+6u7u7s7iyq7GqqqqqmZmZlJmTj5CPiIiIh4eHhoaGgICAfYJ9d3d3cnZxZ2tnZmZmW15bVVVVS0xLREREQ0NDQkJCQUJBOz07OTs5MzMzMTMxLjAuJygnJCUjIiIiISEhICAgGRkZERERDxAPDg4ODQ4NDQ0NDQ0MAAAADbeuvgAAAOhJREFUeNqtk+tyAiEMhQ+6XtroutZiveBdu+p2tXn/l3OQy8roL5fMMENC+HIIAI5sYEQ1DSRtP5zZkCpToubf2/oMMC0zX0QdiLqjmsD1sVKd8JSoNa8HvGRIclZCcZ5A7Yiag/s6oJPMYD8FKgIC3wG/+QP5DFIWot+DvBB1OxYAk+W2W88HqqwAOOZE6FuZbfWZZUn02fb1rTAHc3izZgQCrxWqSSFkH/IaKuSHEzEChfyk2PbwmqFX8EQo3jaw2Ac9DIFhD12Tn4CbU+RbTv+HHrj8jfAOacxflrc61/0psf9yZLsBr5WUrhUa3hEAAAAASUVORK5CYII=)](https://creativecommons.org/licenses/by-sa/4.0/deed.es_ES) \n",
        "2025 [Víctor A. Bettachini](mailto:vbettachini@unlam.edu.ar)  \n",
        "\n",
        "---"
      ]
    },
    {
      "cell_type": "markdown",
      "metadata": {
        "id": "2EPdm94NyBof"
      },
      "source": [
        "## Enunciado\n",
        "Tensor de inercia de un cubo con arista \\(b\\).\n",
        "<!---\n",
        "**Marion e.g. 11-35 y 11-6} Tensor de inercia de un cubo con arista \\(b\\).\n",
        "--->\n",
        "Encuentre:\n",
        "1. Calcule el tensor de inercia desde el sistema de ejes \\(x_i\\) con origen en el centro de masa \\(O\\).\n",
        "1. Use la forma general del teorema de ejes paralelos de Steiner para calcularlo en el sistema \\(X_i\\) con origen en el vértice \\(Q\\) \n",
        "\n",
        "![](https://github.com/bettachini/UNLaM_MecanicaGeneral/blob/master/09bTensorInercia/figuras/mFig11-8.png?raw=1)"
      ]
    },
    {
      "cell_type": "markdown",
      "metadata": {
        "id": "8pTQP6E8yBog"
      },
      "source": [
        "## Resolución"
      ]
    },
    {
      "cell_type": "markdown",
      "metadata": {},
      "source": [
        "> **Referencia**  \n",
        "> Sección 12.2  \n",
        "> Dinmámica clásica de las partículas y sistemas  \n",
        "> Jerry B. Marion"
      ]
    },
    {
      "cell_type": "markdown",
      "metadata": {},
      "source": [
        "### Tensor de inercia desde $O$\n",
        "El problema nos pide calcular el tensor de inercia.\n",
        "Esto es todos los momentos y productos de inercia que lo componen. "
      ]
    },
    {
      "cell_type": "code",
      "execution_count": 1,
      "metadata": {
        "id": "BsYChd68yBoh"
      },
      "outputs": [],
      "source": [
        "import sympy as sm # importamos funciones de cálculo simbólico\n",
        "from sympy.physics import mechanics as me # de sympy utilizaremos funciones de mecánica\n",
        "# import sympy.physics.mechanics as me\n",
        "me.init_vprinting() # notación con punto para la velocidad y punto punto para la aceleración"
      ]
    },
    {
      "cell_type": "code",
      "execution_count": 14,
      "metadata": {
        "id": "RMKFetfnyBoi"
      },
      "outputs": [],
      "source": [
        "Ixx, Ixy, Ixz = sm.symbols('I_{xx} I_{xy} I_{xz}')\n",
        "Iyx, Iyy, Iyz = sm.symbols('I_{yx} I_{yy} I_{yz}')\n",
        "Izx, Izy, Izz = sm.symbols('I_{zx} I_{zy} I_{zz}')"
      ]
    },
    {
      "cell_type": "code",
      "execution_count": 15,
      "metadata": {
        "colab": {
          "base_uri": "https://localhost:8080/",
          "height": 78
        },
        "id": "pQIUbiXiyBoj",
        "outputId": "41150173-e496-4ece-9ec0-f28afb0e840f"
      },
      "outputs": [
        {
          "data": {
            "text/latex": [
              "$\\displaystyle \\overline{\\overline{I} } = \\left[\\begin{matrix}I_{xx} & I_{xy} & I_{xz}\\\\I_{yx} & I_{yy} & I_{yz}\\\\I_{zx} & I_{zy} & I_{zz}\\end{matrix}\\right]$"
            ],
            "text/plain": [
              "                           ⎡I_{xx}  I_{xy}  I_{xz}⎤\n",
              "                           ⎢                      ⎥\n",
              "\\overline{\\overline{I} } = ⎢I_{yx}  I_{yy}  I_{yz}⎥\n",
              "                           ⎢                      ⎥\n",
              "                           ⎣I_{zx}  I_{zy}  I_{zz}⎦"
            ]
          },
          "execution_count": 15,
          "metadata": {},
          "output_type": "execute_result"
        }
      ],
      "source": [
        "I = sm.Eq(\n",
        "  sm.Symbol('\\overline{\\overline{I} }'),\n",
        "  sm.Matrix([[Ixx, Ixy, Ixz], [Iyx, Iyy, Iyz], [Izx, Izy, Izz]]), \n",
        "  evaluate = False\n",
        "  )\n",
        "I"
      ]
    },
    {
      "cell_type": "markdown",
      "metadata": {
        "id": "kiLKKNBOyBok"
      },
      "source": [
        "Recordamos la expresión de los elementos del tensor de inercia para un sistema continuo\n",
        "$$\n",
        "I_{ik} = \\iiint \\rho(\\vec{r}) \\left(x_l^2 \\delta_{ik} -  x_i x_k \\right) dV .\n",
        "$$\n",
        "Calcularemos en coordenadas cartesianas, por tanto $dV = dx dy dz$. \n",
        "La densidad $\\rho = \\frac{m}{b^3}$\n",
        "\n",
        "Empecemos por uno de los momentos de inercia.\n",
        "El primero tiene $i=x$ e $k=x$\n",
        "$$\n",
        "\\begin{aligned}\n",
        "I_{xx} \n",
        "&= \\iiint \\rho(\\vec{r}) \\left(x^2 + y^2 + z^2 - xx \\right) dV\\\\\n",
        "&= \\frac{m}{b^3} \\int_{-b/2}^{b/2} dx \\int_{-b/2}^{b/2} dy \\int_{-b/2}^{b/2} dz ( y^2 + z^2 ).\n",
        "\\end{aligned}\n",
        "$$"
      ]
    },
    {
      "cell_type": "code",
      "execution_count": 16,
      "metadata": {},
      "outputs": [
        {
          "data": {
            "image/png": "[encoded data removed]",
            "text/latex": [
              "$\\displaystyle I_{xx} = \\frac{m \\int\\limits_{- \\frac{b}{2}}^{\\frac{b}{2}}\\int\\limits_{- \\frac{b}{2}}^{\\frac{b}{2}}\\int\\limits_{- \\frac{b}{2}}^{\\frac{b}{2}} \\left(y^{2} + z^{2}\\right)\\, dx\\, dy\\, dz}{b^{3}}$"
            ],
            "text/plain": [
              "            b   b   b                    \n",
              "            ─   ─   ─                    \n",
              "            2   2   2                    \n",
              "            ⌠   ⌠   ⌠                    \n",
              "            ⎮   ⎮   ⎮  ⎛ 2    2⎞         \n",
              "         m⋅ ⎮   ⎮   ⎮  ⎝y  + z ⎠ dx dy dz\n",
              "            ⌡   ⌡   ⌡                    \n",
              "           -b  -b  -b                    \n",
              "           ─── ─── ───                   \n",
              "            2   2   2                    \n",
              "I_{xx} = ────────────────────────────────\n",
              "                         3               \n",
              "                        b                "
            ]
          },
          "execution_count": 16,
          "metadata": {},
          "output_type": "execute_result"
        }
      ],
      "source": [
        "x, y, z, b, m = sm.symbols('x y z b m')\n",
        "f_xx = y**2 + z**2\n",
        "rho_densidad = m/ b**3\n",
        "Ixx_exp = sm.Eq(\n",
        "  Ixx,\n",
        "  rho_densidad* sm.Integral(f_xx, (x, -b/2, b/2), (y, -b/2, b/2), (z,-b/2, b/2) )\n",
        ")\n",
        "Ixx_exp"
      ]
    },
    {
      "cell_type": "code",
      "execution_count": 17,
      "metadata": {},
      "outputs": [
        {
          "data": {
            "image/png": "[encoded data removed]",
            "text/latex": [
              "$\\displaystyle I_{xx} = \\frac{b^{2} m}{6}$"
            ],
            "text/plain": [
              "          2  \n",
              "         b ⋅m\n",
              "I_{xx} = ────\n",
              "          6  "
            ]
          },
          "execution_count": 17,
          "metadata": {},
          "output_type": "execute_result"
        }
      ],
      "source": [
        "Ixx_exp = Ixx_exp.doit()\n",
        "Ixx_exp"
      ]
    },
    {
      "cell_type": "markdown",
      "metadata": {
        "id": "Nxomg8IfyBom"
      },
      "source": [
        "Por simetría geométrica no es difícil convencerse de que los momentos de inercia $I_{yy}$ e $I_{zz}$ serán iguales a $I_{xx}$. "
      ]
    },
    {
      "cell_type": "code",
      "execution_count": 18,
      "metadata": {
        "id": "g_ADkTTRyBom"
      },
      "outputs": [
        {
          "data": {
            "image/png": "[encoded data removed]",
            "text/latex": [
              "$\\displaystyle \\left( I_{yy} = \\frac{b^{2} m}{6}, \\  I_{zz} = \\frac{b^{2} m}{6}\\right)$"
            ],
            "text/plain": [
              "⎛          2              2  ⎞\n",
              "⎜         b ⋅m           b ⋅m⎟\n",
              "⎜I_{yy} = ────, I_{zz} = ────⎟\n",
              "⎝          6              6  ⎠"
            ]
          },
          "execution_count": 18,
          "metadata": {},
          "output_type": "execute_result"
        }
      ],
      "source": [
        "Iyy_exp = sm.Eq(Iyy, Ixx_exp.rhs)\n",
        "Izz_exp = sm.Eq(Izz, Ixx_exp.rhs)\n",
        "Iyy_exp, Izz_exp"
      ]
    },
    {
      "cell_type": "markdown",
      "metadata": {
        "id": "W7EjVG5QyBoo"
      },
      "source": [
        "Empiezo con los productos de inercia de $i=x$.\n",
        "El primero sería el que tiene $k=y$\n",
        "$$\n",
        "\\begin{aligned}\n",
        "I_{xy} \n",
        "&= \\iiint \\rho(\\vec{r}) \\left(- xy \\right) dV\\\\\n",
        "&= \\frac{m}{b^3} \\int_0^b dz \\int_0^b dy \\int_0^b dx ( -xy ).\n",
        "\\end{aligned}\n",
        "$$"
      ]
    },
    {
      "cell_type": "code",
      "execution_count": 19,
      "metadata": {},
      "outputs": [
        {
          "data": {
            "image/png": "[encoded data removed]",
            "text/latex": [
              "$\\displaystyle I_{xy} = \\frac{m \\int\\limits_{- \\frac{b}{2}}^{\\frac{b}{2}}\\int\\limits_{- \\frac{b}{2}}^{\\frac{b}{2}}\\int\\limits_{- \\frac{b}{2}}^{\\frac{b}{2}} \\left(- x y\\right)\\, dx\\, dy\\, dz}{b^{3}}$"
            ],
            "text/plain": [
              "            b   b   b               \n",
              "            ─   ─   ─               \n",
              "            2   2   2               \n",
              "            ⌠   ⌠   ⌠               \n",
              "         m⋅ ⎮   ⎮   ⎮  -x⋅y dx dy dz\n",
              "            ⌡   ⌡   ⌡               \n",
              "           -b  -b  -b               \n",
              "           ─── ─── ───              \n",
              "            2   2   2               \n",
              "I_{xy} = ───────────────────────────\n",
              "                      3             \n",
              "                     b              "
            ]
          },
          "execution_count": 19,
          "metadata": {},
          "output_type": "execute_result"
        }
      ],
      "source": [
        "f_xy = -x* y\n",
        "Ixy_exp = sm.Eq(\n",
        "  Ixy,\n",
        "  rho_densidad* sm.Integral(f_xy, (x, -b/2, b/2), (y, -b/2, b/2), (z, -b/2, b/2) )\n",
        ")\n",
        "Ixy_exp"
      ]
    },
    {
      "cell_type": "code",
      "execution_count": 20,
      "metadata": {},
      "outputs": [
        {
          "data": {
            "image/png": "[encoded data removed]",
            "text/latex": [
              "$\\displaystyle I_{xy} = 0$"
            ],
            "text/plain": [
              "I_{xy} = 0"
            ]
          },
          "execution_count": 20,
          "metadata": {},
          "output_type": "execute_result"
        }
      ],
      "source": [
        "Ixy_exp = Ixy_exp.doit()\n",
        "Ixy_exp"
      ]
    },
    {
      "cell_type": "markdown",
      "metadata": {
        "id": "3PSV20KryBop"
      },
      "source": [
        "Se podría seguir un proceder similar para los otros productos de inercia.\n",
        "Se comprobaría que todos los productos de inercia son igualmente nulos."
      ]
    },
    {
      "cell_type": "code",
      "execution_count": 21,
      "metadata": {
        "id": "Z74avZvByBoq"
      },
      "outputs": [
        {
          "data": {
            "image/png": "[encoded data removed]",
            "text/latex": [
              "$\\displaystyle \\left( I_{xz} = 0, \\  I_{xy} = 0, \\  I_{xy} = 0, \\  I_{zx} = 0, \\  I_{zy} = 0\\right)$"
            ],
            "text/plain": [
              "(I_{xz} = 0, I_{xy} = 0, I_{xy} = 0, I_{zx} = 0, I_{zy} = 0)"
            ]
          },
          "execution_count": 21,
          "metadata": {},
          "output_type": "execute_result"
        }
      ],
      "source": [
        "Ixz_exp = sm.Eq(Ixz, Ixy_exp.rhs)\n",
        "Iyx_exp = sm.Eq(Ixy, Ixy_exp.rhs)\n",
        "Iyz_exp = sm.Eq(Ixy, Ixy_exp.rhs)\n",
        "Izx_exp = sm.Eq(Izx, Ixy_exp.rhs)\n",
        "Izy_exp = sm.Eq(Izy, Ixy_exp.rhs)\n",
        "Ixz_exp, Iyx_exp, Iyz_exp, Izx_exp, Izy_exp"
      ]
    },
    {
      "cell_type": "markdown",
      "metadata": {
        "id": "ZH37o24_yBoq"
      },
      "source": [
        "Por tanto el tensor de inercia calculado desde el centro de masa $O$ con los ejes orientados como muestra la figura es"
      ]
    },
    {
      "cell_type": "code",
      "execution_count": 22,
      "metadata": {
        "colab": {
          "base_uri": "https://localhost:8080/",
          "height": 88
        },
        "id": "hjBJdcDXyBoq",
        "outputId": "961c120e-27e1-47d2-ac7b-367327e762d9"
      },
      "outputs": [
        {
          "data": {
            "text/latex": [
              "$\\displaystyle \\overline{\\overline{I} }_O = \\left[\\begin{matrix}\\frac{b^{2} m}{6} & 0 & 0\\\\0 & \\frac{b^{2} m}{6} & 0\\\\0 & 0 & \\frac{b^{2} m}{6}\\end{matrix}\\right]$"
            ],
            "text/plain": [
              "                             ⎡ 2              ⎤\n",
              "                             ⎢b ⋅m            ⎥\n",
              "                             ⎢────   0     0  ⎥\n",
              "                             ⎢ 6              ⎥\n",
              "                             ⎢                ⎥\n",
              "                             ⎢       2        ⎥\n",
              "                             ⎢      b ⋅m      ⎥\n",
              "\\overline{\\overline{I} }_O = ⎢ 0    ────   0  ⎥\n",
              "                             ⎢       6        ⎥\n",
              "                             ⎢                ⎥\n",
              "                             ⎢             2  ⎥\n",
              "                             ⎢            b ⋅m⎥\n",
              "                             ⎢ 0     0    ────⎥\n",
              "                             ⎣             6  ⎦"
            ]
          },
          "execution_count": 22,
          "metadata": {},
          "output_type": "execute_result"
        }
      ],
      "source": [
        "subsI = {\n",
        "    Ixx: Ixx_exp.rhs,\n",
        "    Ixy: Ixy_exp.rhs,\n",
        "    Ixz: Ixz_exp.rhs,\n",
        "    Iyx: Iyx_exp.rhs,\n",
        "    Iyy: Iyy_exp.rhs,\n",
        "    Iyz: Iyz_exp.rhs,\n",
        "    Izx: Izx_exp.rhs,\n",
        "    Izy: Izy_exp.rhs,\n",
        "    Izz: Izz_exp.rhs\n",
        "}\n",
        "I_subs = sm.Eq(sm.Symbol('\\overline{\\overline{I} }_O'), I.rhs.subs(subsI), evaluate = False )\n",
        "I_subs"
      ]
    },
    {
      "cell_type": "markdown",
      "metadata": {
        "id": "aL69rlnJyBou"
      },
      "source": [
        "### Traslado de $\\overline{\\overline{I} }$ al vertice $Q$ con el teorema de Steiner"
      ]
    },
    {
      "cell_type": "markdown",
      "metadata": {
        "id": "nnR_BBk_yBou"
      },
      "source": [
        "Si los ejes $x'_i$ no parten del centro de masa\n",
        "$$\n",
        "I'_{ik} = I_{ik} + m (a^2 \\delta_{ik} - a_i a_k ) \n",
        "$$\n",
        "donde $\\vec{a}$ va del centro de masa a este sistema. Esta expresión se llama **teorema de Steiner**.\n",
        "\n",
        "En este caso $\\vec{a} = \\vec{OQ} = -\\frac{b}{2} \\hat{x} + (-\\frac{b}{2}) \\hat{y} + (-\\frac{b}{2}) \\hat{z} = -\\frac{b}{2} \\left( \\hat{x} + \\hat{y} + \\hat{z} \\right)$, por lo que para obtener $I'_{ik}$ hay que sumar al $I_{ik}$ calculado en el punto anterior $m (a^2 \\delta_{ik} - a_i a_k )$.\n",
        "\n",
        "Para los elementos en la diagonal en que $i=k$, hay que calcular\n",
        "$$\n",
        "\\vec{a}^2 = \\frac{b^2}{4} \\left( \\hat{x} + \\hat{y} + \\hat{z} \\right) \\cdot \\left( \\hat{x} + \\hat{y} + \\hat{z} \\right) = \\frac{3 b^2}{4},\n",
        "$$\n",
        "en tanto que todos los $- a_i a_k$ valen\n",
        "$$\n",
        "- a_i a_k = - \\left(-\\frac{b}{2} \\right) \\left( -\\frac{b}{2} \\right) = - \\frac{b^2}{4}.\n",
        "$$\n",
        "\n",
        "Queda entonces que el tensor de Steiner a restar del obtenido anteriormente es\n",
        "$$\n",
        "m (a^2 \\delta_{ik} - a_i a_k )\n",
        "= m \\frac{b^2}{4}\n",
        "\\begin{pmatrix}\n",
        "3 -1 & -1 & -1 \\\\\n",
        "-1 & 3 -1 & -1 \\\\\n",
        "-1 & -1 & 3 -1 \\\\\n",
        "\\end{pmatrix}\n",
        "= m \\frac{b^2}{4}\n",
        "\\begin{pmatrix}\n",
        "2 & -1 & -1 \\\\\n",
        "-1 & 2 & -1 \\\\\n",
        "-1 & -1 & 2 \\\\\n",
        "\\end{pmatrix}\n",
        "$$"
      ]
    },
    {
      "cell_type": "code",
      "execution_count": 23,
      "metadata": {
        "colab": {
          "base_uri": "https://localhost:8080/",
          "height": 88
        },
        "id": "mUDXU-e9yBov",
        "outputId": "f05ee049-a745-441f-9833-38aa062fc450"
      },
      "outputs": [
        {
          "data": {
            "text/latex": [
              "$\\displaystyle \\left[\\begin{matrix}\\frac{b^{2} m}{2} & - \\frac{b^{2} m}{4} & - \\frac{b^{2} m}{4}\\\\- \\frac{b^{2} m}{4} & \\frac{b^{2} m}{2} & - \\frac{b^{2} m}{4}\\\\- \\frac{b^{2} m}{4} & - \\frac{b^{2} m}{4} & \\frac{b^{2} m}{2}\\end{matrix}\\right]$"
            ],
            "text/plain": [
              "⎡  2       2       2   ⎤\n",
              "⎢ b ⋅m   -b ⋅m   -b ⋅m ⎥\n",
              "⎢ ────   ──────  ──────⎥\n",
              "⎢  2       4       4   ⎥\n",
              "⎢                      ⎥\n",
              "⎢  2       2       2   ⎥\n",
              "⎢-b ⋅m    b ⋅m   -b ⋅m ⎥\n",
              "⎢──────   ────   ──────⎥\n",
              "⎢  4       2       4   ⎥\n",
              "⎢                      ⎥\n",
              "⎢  2       2       2   ⎥\n",
              "⎢-b ⋅m   -b ⋅m    b ⋅m ⎥\n",
              "⎢──────  ──────   ──── ⎥\n",
              "⎣  4       4       2   ⎦"
            ]
          },
          "execution_count": 23,
          "metadata": {},
          "output_type": "execute_result"
        }
      ],
      "source": [
        "steiner = (m* b**2/ 4)* sm.Matrix(\n",
        "  [\n",
        "    [2, -1, -1],\n",
        "    [-1, 2, -1],\n",
        "    [-1, -1, 2]\n",
        "  ]\n",
        "  )\n",
        "steiner"
      ]
    },
    {
      "cell_type": "code",
      "execution_count": 24,
      "metadata": {
        "colab": {
          "base_uri": "https://localhost:8080/",
          "height": 88
        },
        "id": "4oedZtXwyBov",
        "outputId": "6f915100-7436-4053-92e9-5cbccd8e9012"
      },
      "outputs": [
        {
          "data": {
            "text/latex": [
              "$\\displaystyle \\overline{\\overline{I} }_Q = \\left[\\begin{matrix}\\frac{2 b^{2} m}{3} & - \\frac{b^{2} m}{4} & - \\frac{b^{2} m}{4}\\\\- \\frac{b^{2} m}{4} & \\frac{2 b^{2} m}{3} & - \\frac{b^{2} m}{4}\\\\- \\frac{b^{2} m}{4} & - \\frac{b^{2} m}{4} & \\frac{2 b^{2} m}{3}\\end{matrix}\\right]$"
            ],
            "text/plain": [
              "                             ⎡   2      2       2   ⎤\n",
              "                             ⎢2⋅b ⋅m  -b ⋅m   -b ⋅m ⎥\n",
              "                             ⎢──────  ──────  ──────⎥\n",
              "                             ⎢  3       4       4   ⎥\n",
              "                             ⎢                      ⎥\n",
              "                             ⎢  2        2      2   ⎥\n",
              "                             ⎢-b ⋅m   2⋅b ⋅m  -b ⋅m ⎥\n",
              "\\overline{\\overline{I} }_Q = ⎢──────  ──────  ──────⎥\n",
              "                             ⎢  4       3       4   ⎥\n",
              "                             ⎢                      ⎥\n",
              "                             ⎢  2       2        2  ⎥\n",
              "                             ⎢-b ⋅m   -b ⋅m   2⋅b ⋅m⎥\n",
              "                             ⎢──────  ──────  ──────⎥\n",
              "                             ⎣  4       4       3   ⎦"
            ]
          },
          "execution_count": 24,
          "metadata": {},
          "output_type": "execute_result"
        }
      ],
      "source": [
        "I_Q = sm.Eq(\n",
        "  sm.Symbol('\\overline{\\overline{I} }_Q'),\n",
        "  I_subs.rhs + steiner,\n",
        "  evaluate = False\n",
        "  )\n",
        "I_Q"
      ]
    }
  ],
  "metadata": {
    "colab": {
      "provenance": []
    },
    "kernelspec": {
      "display_name": "jupyter",
      "language": "python",
      "name": "python3"
    },
    "language_info": {
      "codemirror_mode": {
        "name": "ipython",
        "version": 3
      },
      "file_extension": ".py",
      "mimetype": "text/x-python",
      "name": "python",
      "nbconvert_exporter": "python",
      "pygments_lexer": "ipython3",
      "version": "3.11.2"
    }
  },
  "nbformat": 4,
  "nbformat_minor": 0
}
