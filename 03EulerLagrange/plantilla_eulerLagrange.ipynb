{
  "cells": [
    {
      "cell_type": "markdown",
      "id": "cc0287c1-1775-40f4-b16c-ac61acbd5e86",
      "metadata": {
        "id": "cc0287c1-1775-40f4-b16c-ac61acbd5e86"
      },
      "source": [
        "# Plantilla para ejercicios de Euler-Lagrange"
      ]
    },
    {
      "cell_type": "markdown",
      "id": "93bae284-575d-43df-881b-777ed560affd",
      "metadata": {
        "id": "93bae284-575d-43df-881b-777ed560affd"
      },
      "source": [
        "[![DIIT - UNLaM](data:image/png;base64,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)](https://ingenieria.unlam.edu.ar/)    \n",
        "[![by-nc-sa_80x15.png](data:image/png;base64,iVBORw0KGgoAAAANSUhEUgAAAFAAAAAPCAMAAABEF7i9AAAABGdBTUEAANbY1E9YMgAAAJZQTFRF////7u7u3d3dys7KzMzMyMzIxsrGxcbFur+6u7u7s7iyq7GqqqqqmZmZlJmTj5CPiIiIh4eHhoaGgICAfYJ9d3d3cnZxZ2tnZmZmW15bVVVVS0xLREREQ0NDQkJCQUJBOz07OTs5MzMzMTMxLjAuJygnJCUjIiIiISEhICAgGRkZERERDxAPDg4ODQ4NDQ0NDQ0MAAAADbeuvgAAAOhJREFUeNqtk+tyAiEMhQ+6XtroutZiveBdu+p2tXn/l3OQy8roL5fMMENC+HIIAI5sYEQ1DSRtP5zZkCpToubf2/oMMC0zX0QdiLqjmsD1sVKd8JSoNa8HvGRIclZCcZ5A7Yiag/s6oJPMYD8FKgIC3wG/+QP5DFIWot+DvBB1OxYAk+W2W88HqqwAOOZE6FuZbfWZZUn02fb1rTAHc3izZgQCrxWqSSFkH/IaKuSHEzEChfyk2PbwmqFX8EQo3jaw2Ac9DIFhD12Tn4CbU+RbTv+HHrj8jfAOacxflrc61/0psf9yZLsBr5WUrhUa3hEAAAAASUVORK5CYII=)](https://creativecommons.org/licenses/by-sa/4.0/deed.es_ES)\n",
        "2024 [Mariano Real](mailto:mreal@unlam.edu.ar) | [Víctor Bettachini](mailto:vbettachini@unlam.edu.ar)  \n",
        "\n",
        "---"
      ]
    },
    {
      "cell_type": "markdown",
      "id": "051ef135-412f-4e9c-a777-b167fb0c6382",
      "metadata": {
        "id": "051ef135-412f-4e9c-a777-b167fb0c6382"
      },
      "source": [
        "Este cuarderno es una plantilla.\n",
        "La idea de este es que sirva de modelo cada vez que se empieza un ejercicio nuevo:\n",
        "1. \"Guardar una copia en Drive\" está en el menú Archivo\n",
        "2. \"Renombrar\", también en ese menú, para escribir: \"nombre del ejercicio - Apellido\"\n",
        "\n",
        "Todo lo siguiente se vió en cuadernos previos.\n",
        "Si algo no se entiende, vuelva a leer el correspondiente cuaderno.\n",
        "Allí figura más información y está mejor explicada.\n"
      ]
    },
    {
      "cell_type": "markdown",
      "id": "dbfc94b4-602d-4203-b603-34b512da89d9",
      "metadata": {
        "id": "dbfc94b4-602d-4203-b603-34b512da89d9",
        "tags": []
      },
      "source": [
        "## Carga de los módulos de Python necesarios"
      ]
    },
    {
      "cell_type": "code",
      "execution_count": 1,
      "id": "008c2779-a87e-4518-b1dc-e1be108b7b4d",
      "metadata": {
        "id": "008c2779-a87e-4518-b1dc-e1be108b7b4d"
      },
      "outputs": [],
      "source": [
        "import sympy as sm # importamos funciones de cálculo simbólico\n",
        "from sympy.physics import mechanics as me # de sympy utilizaremos funciones de mecánica\n",
        "me.init_vprinting() # notación con punto para la velocidad y punto punto para la aceleración"
      ]
    },
    {
      "cell_type": "markdown",
      "id": "e4nPA6htH7Fl",
      "metadata": {
        "id": "e4nPA6htH7Fl"
      },
      "source": [
        "## Definición del sistema"
      ]
    },
    {
      "cell_type": "markdown",
      "id": "a322923d-5061-457d-8bb4-c0d2af5e3a82",
      "metadata": {
        "id": "a322923d-5061-457d-8bb4-c0d2af5e3a82"
      },
      "source": [
        "Se definen los parámetros físicos del sistema, los que no varian con el tiempo."
      ]
    },
    {
      "cell_type": "code",
      "execution_count": 2,
      "id": "fe1bd661-78ab-4186-bd87-a82663faad94",
      "metadata": {
        "id": "fe1bd661-78ab-4186-bd87-a82663faad94",
        "tags": []
      },
      "outputs": [
        {
          "name": "stderr",
          "output_type": "stream",
          "text": [
            "<>:1: SyntaxWarning: invalid escape sequence '\\e'\n",
            "<>:1: SyntaxWarning: invalid escape sequence '\\e'\n",
            "/tmp/ipykernel_17926/1566743555.py:1: SyntaxWarning: invalid escape sequence '\\e'\n",
            "  m1, m2, g, l1, l2 = sm.symbols('m_1, m_2, g, \\ell_1, \\ell_2', positive=True) # parámetros del sistema. \\ell es la cursiva de ele.\n"
          ]
        }
      ],
      "source": [
        "m1, m2, g, l1, l2 = sm.symbols('m_1, m_2, g, \\ell_1, \\ell_2', positive=True) # parámetros del sistema. \\ell es la cursiva de ele.\n",
        "t = sm.Symbol('t') # declarada aparte para no imponer que sea siempre positiva"
      ]
    },
    {
      "cell_type": "markdown",
      "id": "7b22b865-e37c-45c6-a970-0a7eb941edd7",
      "metadata": {
        "id": "7b22b865-e37c-45c6-a970-0a7eb941edd7"
      },
      "source": [
        "Y las coordenadas generalizadas."
      ]
    },
    {
      "cell_type": "code",
      "execution_count": 3,
      "id": "c027ed18-9b97-4ba7-b4c2-8baf0089e482",
      "metadata": {
        "id": "c027ed18-9b97-4ba7-b4c2-8baf0089e482",
        "tags": []
      },
      "outputs": [],
      "source": [
        "e = me.ReferenceFrame('e') # sistema de referencia en coordenadas cartesianas\n",
        "phi1, phi2 = me.dynamicsymbols(r'\\varphi_1, \\varphi_2') # variables que cambiaran con el tiempo, por tanto son variables dinámicas\n",
        "# el r es para que el sistema considere el backslash \\ como string"
      ]
    },
    {
      "cell_type": "markdown",
      "id": "97e96ab9-77ac-4354-a031-a5e44842b1ca",
      "metadata": {
        "id": "97e96ab9-77ac-4354-a031-a5e44842b1ca"
      },
      "source": [
        "Luego con estas coordenadas se describen las posiciones de las partículas."
      ]
    },
    {
      "cell_type": "code",
      "execution_count": 4,
      "id": "9cd04aaa-328d-4028-b9fe-6e3317a4b803",
      "metadata": {
        "colab": {
          "base_uri": "https://localhost:8080/",
          "height": 38
        },
        "id": "9cd04aaa-328d-4028-b9fe-6e3317a4b803",
        "outputId": "7bb5f50d-2046-42b5-83f4-0dd547916dff"
      },
      "outputs": [
        {
          "data": {
            "image/png": "[encoded data removed]",
            "text/latex": [
              "$\\displaystyle \\left( \\ell_{1} \\cos{\\left(\\varphi_{1} \\right)}\\mathbf{\\hat{e}_x} + \\ell_{1} \\sin{\\left(\\varphi_{1} \\right)}\\mathbf{\\hat{e}_y}, \\  (\\ell_{1} \\cos{\\left(\\varphi_{1} \\right)} + \\ell_{2} \\cos{\\left(\\varphi_{2} \\right)})\\mathbf{\\hat{e}_x} + (\\ell_{1} \\sin{\\left(\\varphi_{1} \\right)} + \\ell_{2} \\sin{\\left(\\varphi_{2} \\right)})\\mathbf{\\hat{e}_y}\\right)$"
            ],
            "text/plain": [
              "⎛\\ell₁⋅cos(\\varphi₁) e_x + \\ell₁⋅sin(\\varphi₁) e_y, (\\ell₁⋅cos(\\varphi₁) + \\el\n",
              "⎝                                                                             \n",
              "\n",
              "l₂⋅cos(\\varphi₂)) e_x + (\\ell₁⋅sin(\\varphi₁) + \\ell₂⎞\n",
              "   ⋅sin(\\varphi₂)) e_y                              ⎠"
            ]
          },
          "execution_count": 4,
          "metadata": {},
          "output_type": "execute_result"
        }
      ],
      "source": [
        "partícula1_r = l1*( sm.cos(phi1)* e.x + sm.sin(phi1)* e.y )\n",
        "partícula2_r = partícula1_r + l2*( sm.cos(phi2)* e.x + sm.sin(phi2)* e.y )\n",
        "partícula1_r, partícula2_r"
      ]
    },
    {
      "cell_type": "markdown",
      "id": "DuOiTg-3r6EF",
      "metadata": {
        "id": "DuOiTg-3r6EF"
      },
      "source": [
        "## Energía cinética de traslación"
      ]
    },
    {
      "cell_type": "code",
      "execution_count": 5,
      "id": "7d0a636c-e31d-43ce-bef6-206135ffefab",
      "metadata": {
        "id": "7d0a636c-e31d-43ce-bef6-206135ffefab",
        "tags": []
      },
      "outputs": [
        {
          "name": "stderr",
          "output_type": "stream",
          "text": [
            "<>:2: SyntaxWarning: invalid escape sequence '\\d'\n",
            "<>:2: SyntaxWarning: invalid escape sequence '\\d'\n",
            "/tmp/ipykernel_17926/3054262066.py:2: SyntaxWarning: invalid escape sequence '\\d'\n",
            "  \"\"\"\n"
          ]
        }
      ],
      "source": [
        "def energíaCinéticaTraslación(masa, posición, marcoDeReferencia):\n",
        "    \"\"\"\n",
        "    A partir de la masa y posición de una partícula puntual en un marco de referencia devuelve su energía cinética.\n",
        "    \n",
        "    Parámetros\n",
        "    ----------\n",
        "    masa: (sympy.core.symbol.Symbol)\n",
        "        De un partícula\n",
        "    posición: (sympy.physics.vector.vector.Vector)\n",
        "        del centro de masa de la partícula\n",
        "    marcoDeReferencia: (sympy.physics.vector.frame.ReferenceFrame)\n",
        "        En el que se expresa la posición\n",
        "    \n",
        "    Retorna\n",
        "    -------\n",
        "    Igualdad Sympy (sympy.core.relational.Equality)\n",
        "        En su lado derecho explicita la energía cinética del sistema en función de coordenadas y velocidades generalizadas y el tiempo.\n",
        "        Energía cinética, T = (m/2) \\dot{\\vec{r}} \\cdot\\dot{\\vec{r}}\n",
        "    \"\"\"\n",
        "    velocidad = posición.dt(marcoDeReferencia)\n",
        "    unMedio = sm.Rational(1,2) # Rational: fracción de enteros, alternativamente podría haberse usado 0.5 \n",
        "    T_traslación = sm.Eq(\n",
        "        sm.Symbol('T_{traslación}'),\n",
        "        unMedio* masa* velocidad.dot(velocidad)\n",
        "        ).simplify()\n",
        "    return T_traslación"
      ]
    },
    {
      "cell_type": "code",
      "execution_count": 7,
      "id": "24bac896-169c-4356-977b-cb6311943f97",
      "metadata": {
        "colab": {
          "base_uri": "https://localhost:8080/",
          "height": 56
        },
        "id": "24bac896-169c-4356-977b-cb6311943f97",
        "outputId": "651a83f5-040b-4ce7-806a-ff4b75a00252",
        "tags": []
      },
      "outputs": [
        {
          "data": {
            "image/png": "[encoded data removed]",
            "text/latex": [
              "$\\displaystyle T_{traslación} = \\frac{\\ell_{1}^{2} m_{1} \\dot{\\varphi}_{1}^{2}}{2} + \\frac{m_{2} \\left(\\ell_{1}^{2} \\dot{\\varphi}_{1}^{2} + 2 \\ell_{1} \\ell_{2} \\cos{\\left(\\varphi_{1} - \\varphi_{2} \\right)} \\dot{\\varphi}_{1} \\dot{\\varphi}_{2} + \\ell_{2}^{2} \\dot{\\varphi}_{2}^{2}\\right)}{2}$"
            ],
            "text/plain": [
              "                      2            2      ⎛     2         2                   \n",
              "                 \\ell₁ ⋅m₁⋅\\varṗhi₁    m₂⋅⎝\\ell₁ ⋅\\varṗhi₁  + 2⋅\\ell₁⋅\\ell₂⋅\n",
              "T_{traslación} = ─────────────────── + ───────────────────────────────────────\n",
              "                          2                                                   \n",
              "\n",
              "                                                2         2⎞\n",
              "cos(\\varphi₁ - \\varphi₂)⋅\\varṗhi₁⋅\\varṗhi₂ + \\ell₂ ⋅\\varṗhi₂ ⎠\n",
              "────────────────────────────────────────────────────────────\n",
              "          2                                                 "
            ]
          },
          "execution_count": 7,
          "metadata": {},
          "output_type": "execute_result"
        }
      ],
      "source": [
        "# Energía cinética del sistema\n",
        "partícula1_T = energíaCinéticaTraslación(m1, partícula1_r, e)\n",
        "partícula2_T = energíaCinéticaTraslación(m2, partícula2_r, e)\n",
        "T = sm.Eq(\n",
        "  partícula1_T.lhs,\n",
        "  partícula1_T.rhs + partícula2_T.rhs\n",
        "  ).simplify()\n",
        "# sm.Eq(lado iz, lado derecho)\n",
        "# simplify: simplifica usando factor común y otras operaciones\n",
        "T"
      ]
    },
    {
      "cell_type": "markdown",
      "id": "xJAg2_Lns3CL",
      "metadata": {
        "id": "xJAg2_Lns3CL"
      },
      "source": [
        "## Energía Potencial gravitatoria"
      ]
    },
    {
      "cell_type": "code",
      "execution_count": 8,
      "id": "bc340b78",
      "metadata": {},
      "outputs": [
        {
          "name": "stderr",
          "output_type": "stream",
          "text": [
            "<>:2: SyntaxWarning: invalid escape sequence '\\c'\n",
            "<>:2: SyntaxWarning: invalid escape sequence '\\c'\n",
            "/tmp/ipykernel_17926/4209001150.py:2: SyntaxWarning: invalid escape sequence '\\c'\n",
            "  \"\"\"\n"
          ]
        }
      ],
      "source": [
        "def energíaPotencialGravitatoria(masa, posición, aceleracionGravitatoria):\n",
        "    \"\"\"\n",
        "    Retorna la energía potencial gravitatoria de una partícula de masa m cuya posición r está dada en un sistema de referencia en el cual g es la aceleración gravitatoria terrestre.\n",
        "    \n",
        "    Parámetros\n",
        "    ----------\n",
        "    aceleracionGravitatoria: (sympy.physics.vector.vector.Vector)\n",
        "        vector orientado según el sistema de referencia\n",
        "    masa: (sympy.core.symbol.Symbol\n",
        "        del cuerpo en cuestión\n",
        "    posición: (sympy.core.symbol.Symbol)\n",
        "        del centro de masa en un sistema de referencia relacionable con el de aceleracionGravitatoria\n",
        "    \n",
        "    Retorna\n",
        "    -------\n",
        "    Igualdad Sympy (sympy.core.relational.Equality)\n",
        "        En su lado derecho explicita la energía potencial del sistema en función de coordenadas y velocidades generalizadas y el tiempo.\n",
        "    coordenadaGeneralizada: Símbolo Sympy (sympy.core.symbol.Symbol)\n",
        "        V = - (m \\vec{aceleracionGravitatoria}) \\cdot{posición}\n",
        "    \"\"\"\n",
        "    V_gravitatoria = sm.Eq(\n",
        "        sm.Symbol('V_{gravitatoria}'),\n",
        "        - (masa* aceleracionGravitatoria).dot(posición)\n",
        "        ).simplify()\n",
        "    return V_gravitatoria"
      ]
    },
    {
      "cell_type": "code",
      "execution_count": 9,
      "id": "DtGW_u5TBPcc",
      "metadata": {
        "colab": {
          "base_uri": "https://localhost:8080/",
          "height": 38
        },
        "id": "DtGW_u5TBPcc",
        "outputId": "87f6d49e-9c71-4ea0-8be7-ce3bdd34c655",
        "tags": []
      },
      "outputs": [
        {
          "data": {
            "image/png": "[encoded data removed]",
            "text/latex": [
              "$\\displaystyle V_{gravitatoria} = g \\left(\\ell_{1} m_{1} \\sin{\\left(\\varphi_{1} \\right)} + m_{2} \\left(\\ell_{1} \\sin{\\left(\\varphi_{1} \\right)} + \\ell_{2} \\sin{\\left(\\varphi_{2} \\right)}\\right)\\right)$"
            ],
            "text/plain": [
              "V_{gravitatoria} = g⋅(\\ell₁⋅m₁⋅sin(\\varphi₁) + m₂⋅(\\ell₁⋅sin(\\varphi₁) + \\ell₂\n",
              "⋅sin(\\varphi₂)))"
            ]
          },
          "execution_count": 9,
          "metadata": {},
          "output_type": "execute_result"
        }
      ],
      "source": [
        "# Energía potencial\n",
        "g_vector = g* (-e.y) # aceleración gravitatoria en -y versor\n",
        "partícula1_V = energíaPotencialGravitatoria(m1, partícula1_r, g_vector)\n",
        "partícula2_V = energíaPotencialGravitatoria(m2, partícula2_r, g_vector)\n",
        "V = sm.Eq(\n",
        "  partícula1_V.lhs,\n",
        "  partícula1_V.rhs + partícula2_V.rhs\n",
        "  ).simplify()\n",
        "V"
      ]
    },
    {
      "cell_type": "markdown",
      "id": "V83agqCOvUE5",
      "metadata": {
        "id": "V83agqCOvUE5"
      },
      "source": [
        "## Ecuaciones de Euler-Lagrange"
      ]
    },
    {
      "cell_type": "markdown",
      "id": "92a140ba-167d-483e-a1fc-081ea5cece9b",
      "metadata": {
        "id": "92a140ba-167d-483e-a1fc-081ea5cece9b"
      },
      "source": [
        "Como hicimos anteriormente para las energías podemos ahorrar esfuerzo y escribir una sola vez en una función el procedimiento para obtener la ecuación de Euler-Lagrange.\n",
        "\n",
        "Recuerde que habrá tantas ecuaciones como coordenadas generalizadas se utilicen para describir el sistema mecánico."
      ]
    },
    {
      "cell_type": "code",
      "execution_count": 10,
      "id": "51cd8a22-9f8e-4caa-8faa-09bdd1799d97",
      "metadata": {
        "id": "51cd8a22-9f8e-4caa-8faa-09bdd1799d97",
        "tags": []
      },
      "outputs": [],
      "source": [
        "def eulerLagrange(T, V, coordenadaGeneralizada):\n",
        "    '''    \n",
        "    Esta función devuelve la ecuación de Euler-Lagrange para una coordenada generalizada a partir de las energías del sistema.\n",
        "    \n",
        "    Parámetros\n",
        "    ----------\n",
        "    T : Igualdad Sympy (sympy.core.relational.Equality)\n",
        "        En su lado derecho explicita la energía cinética del sistema en función de coordenadas y velocidades generalizadas y el tiempo.\n",
        "    V : Igualdad Sympy (sympy.core.relational.Equality)\n",
        "        En su lado derecho explicita la energía potencial del sistema en función de coordenadas y velocidades generalizadas y el tiempo.\n",
        "    coordenadaGeneralizada: Símbolo Sympy (sympy.core.symbol.Symbol)\n",
        "        Para la que quiere obtenerse la ecuación de Euler-Lagrange\n",
        "        \n",
        "    Retorna\n",
        "    -------\n",
        "    Igualdad Sympy (sympy.core.relational.Equality)\n",
        "        Ecuación de Euler-Lagrange homogénea para la coordenadaGeneralizada\n",
        "    '''\n",
        "    lagrangiano = (T.rhs - V.rhs).expand()\n",
        "    t = sm.Symbol('t') # como se deriva respecto al tiempo con la función diff se declara t como símbolo \n",
        "    return sm.Eq(\n",
        "        lagrangiano.diff(coordenadaGeneralizada) \n",
        "        - lagrangiano.diff(coordenadaGeneralizada.diff(t)).diff(t)\n",
        "        , 0\n",
        "    ).simplify()"
      ]
    },
    {
      "cell_type": "code",
      "execution_count": 11,
      "id": "934a38f6-d087-49d9-be7c-9ca818ea2a84",
      "metadata": {
        "colab": {
          "base_uri": "https://localhost:8080/",
          "height": 38
        },
        "id": "934a38f6-d087-49d9-be7c-9ca818ea2a84",
        "outputId": "6a378ad3-730f-485a-a6fc-bca8f8a67ee7",
        "tags": []
      },
      "outputs": [
        {
          "data": {
            "image/png": "[encoded data removed]",
            "text/latex": [
              "$\\displaystyle \\ell_{1} \\left(\\ell_{1} m_{1} \\ddot{\\varphi}_{1} + \\ell_{1} m_{2} \\ddot{\\varphi}_{1} + \\ell_{2} m_{2} \\sin{\\left(\\varphi_{1} - \\varphi_{2} \\right)} \\dot{\\varphi}_{2}^{2} + \\ell_{2} m_{2} \\cos{\\left(\\varphi_{1} - \\varphi_{2} \\right)} \\ddot{\\varphi}_{2} + g m_{1} \\cos{\\left(\\varphi_{1} \\right)} + g m_{2} \\cos{\\left(\\varphi_{1} \\right)}\\right) = 0$"
            ],
            "text/plain": [
              "      ⎛                                                                       \n",
              "\\ell₁⋅⎝\\ell₁⋅m₁⋅\\varp̈hi₁ + \\ell₁⋅m₂⋅\\varp̈hi₁ + \\ell₂⋅m₂⋅sin(\\varphi₁ - \\varp\n",
              "\n",
              "           2                                                                  \n",
              "hi₂)⋅\\varṗhi₂  + \\ell₂⋅m₂⋅cos(\\varphi₁ - \\varphi₂)⋅\\varp̈hi₂ + g⋅m₁⋅cos(\\varp\n",
              "\n",
              "                     ⎞    \n",
              "hi₁) + g⋅m₂⋅cos(\\varphi₁)⎠ = 0"
            ]
          },
          "execution_count": 11,
          "metadata": {},
          "output_type": "execute_result"
        }
      ],
      "source": [
        "phi1_EL = eulerLagrange(T, V, phi1)\n",
        "phi1_EL"
      ]
    },
    {
      "cell_type": "code",
      "execution_count": 12,
      "id": "2548d96c-a159-4f68-ba2d-7fdcd231f3a2",
      "metadata": {
        "colab": {
          "base_uri": "https://localhost:8080/",
          "height": 38
        },
        "id": "2548d96c-a159-4f68-ba2d-7fdcd231f3a2",
        "outputId": "7d6db570-5677-4c78-b763-1ec1a0ab2a4f",
        "tags": []
      },
      "outputs": [
        {
          "data": {
            "image/png": "[encoded data removed]",
            "text/latex": [
              "$\\displaystyle \\ell_{2} m_{2} \\left(\\ell_{1} \\sin{\\left(\\varphi_{1} - \\varphi_{2} \\right)} \\dot{\\varphi}_{1}^{2} - \\ell_{1} \\cos{\\left(\\varphi_{1} - \\varphi_{2} \\right)} \\ddot{\\varphi}_{1} - \\ell_{2} \\ddot{\\varphi}_{2} - g \\cos{\\left(\\varphi_{2} \\right)}\\right) = 0$"
            ],
            "text/plain": [
              "         ⎛                                       2                            \n",
              "\\ell₂⋅m₂⋅⎝\\ell₁⋅sin(\\varphi₁ - \\varphi₂)⋅\\varṗhi₁  - \\ell₁⋅cos(\\varphi₁ - \\va\n",
              "\n",
              "                                                 ⎞    \n",
              "rphi₂)⋅\\varp̈hi₁ - \\ell₂⋅\\varp̈hi₂ - g⋅cos(\\varphi₂)⎠ = 0"
            ]
          },
          "execution_count": 12,
          "metadata": {},
          "output_type": "execute_result"
        }
      ],
      "source": [
        "phi2_EL = eulerLagrange(T, V, phi2)\n",
        "phi2_EL"
      ]
    }
  ],
  "metadata": {
    "colab": {
      "provenance": [],
      "toc_visible": true
    },
    "kernelspec": {
      "display_name": "Python 3 (ipykernel)",
      "language": "python",
      "name": "python3"
    },
    "language_info": {
      "codemirror_mode": {
        "name": "ipython",
        "version": 3
      },
      "file_extension": ".py",
      "mimetype": "text/x-python",
      "name": "python",
      "nbconvert_exporter": "python",
      "pygments_lexer": "ipython3",
      "version": "3.11.2"
    }
  },
  "nbformat": 4,
  "nbformat_minor": 5
}
